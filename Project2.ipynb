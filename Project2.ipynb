{
 "cells": [
  {
   "cell_type": "markdown",
   "metadata": {},
   "source": [
    "<b> Computational Social Science Project 2 <b>"
   ]
  },
  {
   "cell_type": "markdown",
   "metadata": {},
   "source": [
    "The aim of this project is to develop machine learning models to predict diabetes rates in US counties. \n",
    "We use data from Centers for Disease Control and Prevention (CDC) and the US Census Bureau."
   ]
  },
  {
   "cell_type": "code",
   "execution_count": 1,
   "metadata": {},
   "outputs": [],
   "source": [
    "#calling relevant libraries\n",
    "import pandas as pd\n",
    "import matplotlib.pyplot as plt\n",
    "import numpy as np"
   ]
  },
  {
   "cell_type": "code",
   "execution_count": 2,
   "metadata": {},
   "outputs": [],
   "source": [
    "# importing dataset\n",
    "mydata = pd.read_csv(\"Diabetes with Population Info by County 2017.csv\")"
   ]
  },
  {
   "cell_type": "code",
   "execution_count": 3,
   "metadata": {},
   "outputs": [
    {
     "data": {
      "text/html": [
       "<div>\n",
       "<style scoped>\n",
       "    .dataframe tbody tr th:only-of-type {\n",
       "        vertical-align: middle;\n",
       "    }\n",
       "\n",
       "    .dataframe tbody tr th {\n",
       "        vertical-align: top;\n",
       "    }\n",
       "\n",
       "    .dataframe thead th {\n",
       "        text-align: right;\n",
       "    }\n",
       "</style>\n",
       "<table border=\"1\" class=\"dataframe\">\n",
       "  <thead>\n",
       "    <tr style=\"text-align: right;\">\n",
       "      <th></th>\n",
       "      <th>County</th>\n",
       "      <th>State</th>\n",
       "      <th>CountyFIPS</th>\n",
       "      <th>Diabetes_Number</th>\n",
       "      <th>Obesity_Number</th>\n",
       "      <th>Physical_Inactivity_Number</th>\n",
       "      <th>sex and age_total population_65 years and over_sex ratio (males per 100 females)</th>\n",
       "      <th>race_total population</th>\n",
       "      <th>race_total population_one race</th>\n",
       "      <th>race_total population_two or more races</th>\n",
       "      <th>...</th>\n",
       "      <th>sex and age_total population_21 years and over</th>\n",
       "      <th>sex and age_total population_62 years and over</th>\n",
       "      <th>sex and age_total population_65 years and over</th>\n",
       "      <th>sex and age_total population_18 years and over_1</th>\n",
       "      <th>sex and age_total population_18 years and over_male</th>\n",
       "      <th>sex and age_total population_18 years and over_female</th>\n",
       "      <th>sex and age_total population_18 years and over_sex ratio (males per 100 females)</th>\n",
       "      <th>sex and age_total population_65 years and over_1</th>\n",
       "      <th>sex and age_total population_65 years and over_male</th>\n",
       "      <th>sex and age_total population_65 years and over_female</th>\n",
       "    </tr>\n",
       "  </thead>\n",
       "  <tbody>\n",
       "    <tr>\n",
       "      <th>0</th>\n",
       "      <td>Autauga County</td>\n",
       "      <td>Alabama</td>\n",
       "      <td>1001</td>\n",
       "      <td>5178</td>\n",
       "      <td>13489</td>\n",
       "      <td>12525</td>\n",
       "      <td>76.5</td>\n",
       "      <td>55200</td>\n",
       "      <td>54170</td>\n",
       "      <td>1030</td>\n",
       "      <td>...</td>\n",
       "      <td>39614</td>\n",
       "      <td>9403</td>\n",
       "      <td>8050</td>\n",
       "      <td>41831</td>\n",
       "      <td>20054</td>\n",
       "      <td>21777</td>\n",
       "      <td>92.1</td>\n",
       "      <td>8050</td>\n",
       "      <td>3488</td>\n",
       "      <td>4562</td>\n",
       "    </tr>\n",
       "    <tr>\n",
       "      <th>1</th>\n",
       "      <td>Baldwin County</td>\n",
       "      <td>Alabama</td>\n",
       "      <td>1003</td>\n",
       "      <td>16707</td>\n",
       "      <td>48542</td>\n",
       "      <td>40024</td>\n",
       "      <td>86.6</td>\n",
       "      <td>208107</td>\n",
       "      <td>204535</td>\n",
       "      <td>3572</td>\n",
       "      <td>...</td>\n",
       "      <td>155502</td>\n",
       "      <td>49811</td>\n",
       "      <td>40665</td>\n",
       "      <td>162430</td>\n",
       "      <td>78104</td>\n",
       "      <td>84326</td>\n",
       "      <td>92.6</td>\n",
       "      <td>40665</td>\n",
       "      <td>18870</td>\n",
       "      <td>21795</td>\n",
       "    </tr>\n",
       "    <tr>\n",
       "      <th>2</th>\n",
       "      <td>Barbour County</td>\n",
       "      <td>Alabama</td>\n",
       "      <td>1005</td>\n",
       "      <td>3400</td>\n",
       "      <td>8009</td>\n",
       "      <td>5431</td>\n",
       "      <td>76.2</td>\n",
       "      <td>25782</td>\n",
       "      <td>25429</td>\n",
       "      <td>353</td>\n",
       "      <td>...</td>\n",
       "      <td>19394</td>\n",
       "      <td>5658</td>\n",
       "      <td>4634</td>\n",
       "      <td>20346</td>\n",
       "      <td>10923</td>\n",
       "      <td>9423</td>\n",
       "      <td>115.9</td>\n",
       "      <td>4634</td>\n",
       "      <td>2004</td>\n",
       "      <td>2630</td>\n",
       "    </tr>\n",
       "    <tr>\n",
       "      <th>3</th>\n",
       "      <td>Bibb County</td>\n",
       "      <td>Alabama</td>\n",
       "      <td>1007</td>\n",
       "      <td>2371</td>\n",
       "      <td>6534</td>\n",
       "      <td>5827</td>\n",
       "      <td>80.5</td>\n",
       "      <td>22527</td>\n",
       "      <td>22340</td>\n",
       "      <td>187</td>\n",
       "      <td>...</td>\n",
       "      <td>16864</td>\n",
       "      <td>4323</td>\n",
       "      <td>3661</td>\n",
       "      <td>17868</td>\n",
       "      <td>9578</td>\n",
       "      <td>8290</td>\n",
       "      <td>115.5</td>\n",
       "      <td>3661</td>\n",
       "      <td>1633</td>\n",
       "      <td>2028</td>\n",
       "    </tr>\n",
       "    <tr>\n",
       "      <th>4</th>\n",
       "      <td>Blount County</td>\n",
       "      <td>Alabama</td>\n",
       "      <td>1009</td>\n",
       "      <td>6282</td>\n",
       "      <td>14227</td>\n",
       "      <td>14365</td>\n",
       "      <td>79.7</td>\n",
       "      <td>57645</td>\n",
       "      <td>56710</td>\n",
       "      <td>935</td>\n",
       "      <td>...</td>\n",
       "      <td>42232</td>\n",
       "      <td>12400</td>\n",
       "      <td>10233</td>\n",
       "      <td>44177</td>\n",
       "      <td>21595</td>\n",
       "      <td>22582</td>\n",
       "      <td>95.6</td>\n",
       "      <td>10233</td>\n",
       "      <td>4540</td>\n",
       "      <td>5693</td>\n",
       "    </tr>\n",
       "  </tbody>\n",
       "</table>\n",
       "<p>5 rows × 95 columns</p>\n",
       "</div>"
      ],
      "text/plain": [
       "           County    State  CountyFIPS Diabetes_Number Obesity_Number  \\\n",
       "0  Autauga County  Alabama        1001            5178          13489   \n",
       "1  Baldwin County  Alabama        1003           16707          48542   \n",
       "2  Barbour County  Alabama        1005            3400           8009   \n",
       "3     Bibb County  Alabama        1007            2371           6534   \n",
       "4   Blount County  Alabama        1009            6282          14227   \n",
       "\n",
       "  Physical_Inactivity_Number  \\\n",
       "0                      12525   \n",
       "1                      40024   \n",
       "2                       5431   \n",
       "3                       5827   \n",
       "4                      14365   \n",
       "\n",
       "  sex and age_total population_65 years and over_sex ratio (males per 100 females)  \\\n",
       "0                                               76.5                                 \n",
       "1                                               86.6                                 \n",
       "2                                               76.2                                 \n",
       "3                                               80.5                                 \n",
       "4                                               79.7                                 \n",
       "\n",
       "   race_total population  race_total population_one race  \\\n",
       "0                  55200                           54170   \n",
       "1                 208107                          204535   \n",
       "2                  25782                           25429   \n",
       "3                  22527                           22340   \n",
       "4                  57645                           56710   \n",
       "\n",
       "   race_total population_two or more races  ...  \\\n",
       "0                                     1030  ...   \n",
       "1                                     3572  ...   \n",
       "2                                      353  ...   \n",
       "3                                      187  ...   \n",
       "4                                      935  ...   \n",
       "\n",
       "   sex and age_total population_21 years and over  \\\n",
       "0                                           39614   \n",
       "1                                          155502   \n",
       "2                                           19394   \n",
       "3                                           16864   \n",
       "4                                           42232   \n",
       "\n",
       "   sex and age_total population_62 years and over  \\\n",
       "0                                            9403   \n",
       "1                                           49811   \n",
       "2                                            5658   \n",
       "3                                            4323   \n",
       "4                                           12400   \n",
       "\n",
       "   sex and age_total population_65 years and over  \\\n",
       "0                                            8050   \n",
       "1                                           40665   \n",
       "2                                            4634   \n",
       "3                                            3661   \n",
       "4                                           10233   \n",
       "\n",
       "   sex and age_total population_18 years and over_1  \\\n",
       "0                                             41831   \n",
       "1                                            162430   \n",
       "2                                             20346   \n",
       "3                                             17868   \n",
       "4                                             44177   \n",
       "\n",
       "   sex and age_total population_18 years and over_male  \\\n",
       "0                                              20054     \n",
       "1                                              78104     \n",
       "2                                              10923     \n",
       "3                                               9578     \n",
       "4                                              21595     \n",
       "\n",
       "   sex and age_total population_18 years and over_female  \\\n",
       "0                                              21777       \n",
       "1                                              84326       \n",
       "2                                               9423       \n",
       "3                                               8290       \n",
       "4                                              22582       \n",
       "\n",
       "   sex and age_total population_18 years and over_sex ratio (males per 100 females)  \\\n",
       "0                                               92.1                                  \n",
       "1                                               92.6                                  \n",
       "2                                              115.9                                  \n",
       "3                                              115.5                                  \n",
       "4                                               95.6                                  \n",
       "\n",
       "   sex and age_total population_65 years and over_1  \\\n",
       "0                                              8050   \n",
       "1                                             40665   \n",
       "2                                              4634   \n",
       "3                                              3661   \n",
       "4                                             10233   \n",
       "\n",
       "   sex and age_total population_65 years and over_male  \\\n",
       "0                                               3488     \n",
       "1                                              18870     \n",
       "2                                               2004     \n",
       "3                                               1633     \n",
       "4                                               4540     \n",
       "\n",
       "   sex and age_total population_65 years and over_female  \n",
       "0                                               4562      \n",
       "1                                              21795      \n",
       "2                                               2630      \n",
       "3                                               2028      \n",
       "4                                               5693      \n",
       "\n",
       "[5 rows x 95 columns]"
      ]
     },
     "execution_count": 3,
     "metadata": {},
     "output_type": "execute_result"
    }
   ],
   "source": [
    "# checking out the dataset\n",
    "mydata.head()"
   ]
  },
  {
   "cell_type": "code",
   "execution_count": 4,
   "metadata": {},
   "outputs": [
    {
     "data": {
      "text/html": [
       "<div>\n",
       "<style scoped>\n",
       "    .dataframe tbody tr th:only-of-type {\n",
       "        vertical-align: middle;\n",
       "    }\n",
       "\n",
       "    .dataframe tbody tr th {\n",
       "        vertical-align: top;\n",
       "    }\n",
       "\n",
       "    .dataframe thead th {\n",
       "        text-align: right;\n",
       "    }\n",
       "</style>\n",
       "<table border=\"1\" class=\"dataframe\">\n",
       "  <thead>\n",
       "    <tr style=\"text-align: right;\">\n",
       "      <th></th>\n",
       "      <th>CountyFIPS</th>\n",
       "      <th>race_total population</th>\n",
       "      <th>race_total population_one race</th>\n",
       "      <th>race_total population_two or more races</th>\n",
       "      <th>race_total population_one race_1</th>\n",
       "      <th>race_total population_one race_white</th>\n",
       "      <th>race_total population_one race_black or african american</th>\n",
       "      <th>race_total population_one race_american indian and alaska native</th>\n",
       "      <th>race_total population_one race_american indian and alaska native_cherokee tribal grouping</th>\n",
       "      <th>race_total population_one race_american indian and alaska native_chippewa tribal grouping</th>\n",
       "      <th>...</th>\n",
       "      <th>sex and age_total population_21 years and over</th>\n",
       "      <th>sex and age_total population_62 years and over</th>\n",
       "      <th>sex and age_total population_65 years and over</th>\n",
       "      <th>sex and age_total population_18 years and over_1</th>\n",
       "      <th>sex and age_total population_18 years and over_male</th>\n",
       "      <th>sex and age_total population_18 years and over_female</th>\n",
       "      <th>sex and age_total population_18 years and over_sex ratio (males per 100 females)</th>\n",
       "      <th>sex and age_total population_65 years and over_1</th>\n",
       "      <th>sex and age_total population_65 years and over_male</th>\n",
       "      <th>sex and age_total population_65 years and over_female</th>\n",
       "    </tr>\n",
       "  </thead>\n",
       "  <tbody>\n",
       "    <tr>\n",
       "      <th>count</th>\n",
       "      <td>3220.000000</td>\n",
       "      <td>3.220000e+03</td>\n",
       "      <td>3.220000e+03</td>\n",
       "      <td>3220.000000</td>\n",
       "      <td>3.220000e+03</td>\n",
       "      <td>3.220000e+03</td>\n",
       "      <td>3.220000e+03</td>\n",
       "      <td>3220.000000</td>\n",
       "      <td>3220.000000</td>\n",
       "      <td>3220.000000</td>\n",
       "      <td>...</td>\n",
       "      <td>3.220000e+03</td>\n",
       "      <td>3.220000e+03</td>\n",
       "      <td>3.220000e+03</td>\n",
       "      <td>3.220000e+03</td>\n",
       "      <td>3.220000e+03</td>\n",
       "      <td>3.220000e+03</td>\n",
       "      <td>3220.000000</td>\n",
       "      <td>3.220000e+03</td>\n",
       "      <td>3220.000000</td>\n",
       "      <td>3220.000000</td>\n",
       "    </tr>\n",
       "    <tr>\n",
       "      <th>mean</th>\n",
       "      <td>31393.605280</td>\n",
       "      <td>1.013323e+05</td>\n",
       "      <td>9.803687e+04</td>\n",
       "      <td>3295.423292</td>\n",
       "      <td>9.803687e+04</td>\n",
       "      <td>7.366104e+04</td>\n",
       "      <td>1.282022e+04</td>\n",
       "      <td>840.862422</td>\n",
       "      <td>90.346894</td>\n",
       "      <td>36.718634</td>\n",
       "      <td>...</td>\n",
       "      <td>7.412272e+04</td>\n",
       "      <td>1.906676e+04</td>\n",
       "      <td>1.549044e+04</td>\n",
       "      <td>7.827602e+04</td>\n",
       "      <td>3.809320e+04</td>\n",
       "      <td>4.018282e+04</td>\n",
       "      <td>99.439317</td>\n",
       "      <td>1.549044e+04</td>\n",
       "      <td>6850.940683</td>\n",
       "      <td>8639.495342</td>\n",
       "    </tr>\n",
       "    <tr>\n",
       "      <th>std</th>\n",
       "      <td>16292.078954</td>\n",
       "      <td>3.260964e+05</td>\n",
       "      <td>3.142309e+05</td>\n",
       "      <td>13032.711931</td>\n",
       "      <td>3.142309e+05</td>\n",
       "      <td>2.012548e+05</td>\n",
       "      <td>5.514027e+04</td>\n",
       "      <td>3534.196512</td>\n",
       "      <td>534.021931</td>\n",
       "      <td>300.672832</td>\n",
       "      <td>...</td>\n",
       "      <td>2.384994e+05</td>\n",
       "      <td>5.470009e+04</td>\n",
       "      <td>4.432602e+04</td>\n",
       "      <td>2.513513e+05</td>\n",
       "      <td>1.220023e+05</td>\n",
       "      <td>1.293948e+05</td>\n",
       "      <td>14.740158</td>\n",
       "      <td>4.432602e+04</td>\n",
       "      <td>19234.567636</td>\n",
       "      <td>25111.933583</td>\n",
       "    </tr>\n",
       "    <tr>\n",
       "      <th>min</th>\n",
       "      <td>1001.000000</td>\n",
       "      <td>7.500000e+01</td>\n",
       "      <td>6.000000e+01</td>\n",
       "      <td>0.000000</td>\n",
       "      <td>6.000000e+01</td>\n",
       "      <td>1.600000e+01</td>\n",
       "      <td>0.000000e+00</td>\n",
       "      <td>0.000000</td>\n",
       "      <td>0.000000</td>\n",
       "      <td>0.000000</td>\n",
       "      <td>...</td>\n",
       "      <td>6.900000e+01</td>\n",
       "      <td>1.900000e+01</td>\n",
       "      <td>1.200000e+01</td>\n",
       "      <td>7.100000e+01</td>\n",
       "      <td>3.600000e+01</td>\n",
       "      <td>3.100000e+01</td>\n",
       "      <td>70.800000</td>\n",
       "      <td>1.200000e+01</td>\n",
       "      <td>0.000000</td>\n",
       "      <td>10.000000</td>\n",
       "    </tr>\n",
       "    <tr>\n",
       "      <th>25%</th>\n",
       "      <td>19032.500000</td>\n",
       "      <td>1.121425e+04</td>\n",
       "      <td>1.090100e+04</td>\n",
       "      <td>169.750000</td>\n",
       "      <td>1.090100e+04</td>\n",
       "      <td>9.050250e+03</td>\n",
       "      <td>1.167500e+02</td>\n",
       "      <td>30.000000</td>\n",
       "      <td>0.000000</td>\n",
       "      <td>0.000000</td>\n",
       "      <td>...</td>\n",
       "      <td>8.314250e+03</td>\n",
       "      <td>2.583750e+03</td>\n",
       "      <td>2.111500e+03</td>\n",
       "      <td>8.691500e+03</td>\n",
       "      <td>4.355250e+03</td>\n",
       "      <td>4.285250e+03</td>\n",
       "      <td>93.000000</td>\n",
       "      <td>2.111500e+03</td>\n",
       "      <td>984.750000</td>\n",
       "      <td>1126.000000</td>\n",
       "    </tr>\n",
       "    <tr>\n",
       "      <th>50%</th>\n",
       "      <td>30024.000000</td>\n",
       "      <td>2.595050e+04</td>\n",
       "      <td>2.537900e+04</td>\n",
       "      <td>492.000000</td>\n",
       "      <td>2.537900e+04</td>\n",
       "      <td>2.161750e+04</td>\n",
       "      <td>8.380000e+02</td>\n",
       "      <td>114.000000</td>\n",
       "      <td>9.000000</td>\n",
       "      <td>0.000000</td>\n",
       "      <td>...</td>\n",
       "      <td>1.936550e+04</td>\n",
       "      <td>5.704500e+03</td>\n",
       "      <td>4.698500e+03</td>\n",
       "      <td>2.026050e+04</td>\n",
       "      <td>9.997500e+03</td>\n",
       "      <td>1.019050e+04</td>\n",
       "      <td>96.500000</td>\n",
       "      <td>4.698500e+03</td>\n",
       "      <td>2129.500000</td>\n",
       "      <td>2548.000000</td>\n",
       "    </tr>\n",
       "    <tr>\n",
       "      <th>75%</th>\n",
       "      <td>46105.500000</td>\n",
       "      <td>6.655225e+04</td>\n",
       "      <td>6.497525e+04</td>\n",
       "      <td>1742.500000</td>\n",
       "      <td>6.497525e+04</td>\n",
       "      <td>5.711775e+04</td>\n",
       "      <td>5.591000e+03</td>\n",
       "      <td>425.250000</td>\n",
       "      <td>48.000000</td>\n",
       "      <td>6.000000</td>\n",
       "      <td>...</td>\n",
       "      <td>4.906400e+04</td>\n",
       "      <td>1.435650e+04</td>\n",
       "      <td>1.171375e+04</td>\n",
       "      <td>5.200525e+04</td>\n",
       "      <td>2.557400e+04</td>\n",
       "      <td>2.664950e+04</td>\n",
       "      <td>100.800000</td>\n",
       "      <td>1.171375e+04</td>\n",
       "      <td>5234.000000</td>\n",
       "      <td>6314.500000</td>\n",
       "    </tr>\n",
       "    <tr>\n",
       "      <th>max</th>\n",
       "      <td>72153.000000</td>\n",
       "      <td>1.009805e+07</td>\n",
       "      <td>9.700372e+06</td>\n",
       "      <td>397680.000000</td>\n",
       "      <td>9.700372e+06</td>\n",
       "      <td>5.186859e+06</td>\n",
       "      <td>1.230494e+06</td>\n",
       "      <td>82699.000000</td>\n",
       "      <td>14104.000000</td>\n",
       "      <td>10609.000000</td>\n",
       "      <td>...</td>\n",
       "      <td>7.433332e+06</td>\n",
       "      <td>1.610630e+06</td>\n",
       "      <td>1.299277e+06</td>\n",
       "      <td>7.851531e+06</td>\n",
       "      <td>3.827779e+06</td>\n",
       "      <td>4.023752e+06</td>\n",
       "      <td>414.700000</td>\n",
       "      <td>1.299277e+06</td>\n",
       "      <td>561006.000000</td>\n",
       "      <td>738271.000000</td>\n",
       "    </tr>\n",
       "  </tbody>\n",
       "</table>\n",
       "<p>8 rows × 89 columns</p>\n",
       "</div>"
      ],
      "text/plain": [
       "         CountyFIPS  race_total population  race_total population_one race  \\\n",
       "count   3220.000000           3.220000e+03                    3.220000e+03   \n",
       "mean   31393.605280           1.013323e+05                    9.803687e+04   \n",
       "std    16292.078954           3.260964e+05                    3.142309e+05   \n",
       "min     1001.000000           7.500000e+01                    6.000000e+01   \n",
       "25%    19032.500000           1.121425e+04                    1.090100e+04   \n",
       "50%    30024.000000           2.595050e+04                    2.537900e+04   \n",
       "75%    46105.500000           6.655225e+04                    6.497525e+04   \n",
       "max    72153.000000           1.009805e+07                    9.700372e+06   \n",
       "\n",
       "       race_total population_two or more races  \\\n",
       "count                              3220.000000   \n",
       "mean                               3295.423292   \n",
       "std                               13032.711931   \n",
       "min                                   0.000000   \n",
       "25%                                 169.750000   \n",
       "50%                                 492.000000   \n",
       "75%                                1742.500000   \n",
       "max                              397680.000000   \n",
       "\n",
       "       race_total population_one race_1  race_total population_one race_white  \\\n",
       "count                      3.220000e+03                          3.220000e+03   \n",
       "mean                       9.803687e+04                          7.366104e+04   \n",
       "std                        3.142309e+05                          2.012548e+05   \n",
       "min                        6.000000e+01                          1.600000e+01   \n",
       "25%                        1.090100e+04                          9.050250e+03   \n",
       "50%                        2.537900e+04                          2.161750e+04   \n",
       "75%                        6.497525e+04                          5.711775e+04   \n",
       "max                        9.700372e+06                          5.186859e+06   \n",
       "\n",
       "       race_total population_one race_black or african american  \\\n",
       "count                                       3.220000e+03          \n",
       "mean                                        1.282022e+04          \n",
       "std                                         5.514027e+04          \n",
       "min                                         0.000000e+00          \n",
       "25%                                         1.167500e+02          \n",
       "50%                                         8.380000e+02          \n",
       "75%                                         5.591000e+03          \n",
       "max                                         1.230494e+06          \n",
       "\n",
       "       race_total population_one race_american indian and alaska native  \\\n",
       "count                                        3220.000000                  \n",
       "mean                                          840.862422                  \n",
       "std                                          3534.196512                  \n",
       "min                                             0.000000                  \n",
       "25%                                            30.000000                  \n",
       "50%                                           114.000000                  \n",
       "75%                                           425.250000                  \n",
       "max                                         82699.000000                  \n",
       "\n",
       "       race_total population_one race_american indian and alaska native_cherokee tribal grouping  \\\n",
       "count                                        3220.000000                                           \n",
       "mean                                           90.346894                                           \n",
       "std                                           534.021931                                           \n",
       "min                                             0.000000                                           \n",
       "25%                                             0.000000                                           \n",
       "50%                                             9.000000                                           \n",
       "75%                                            48.000000                                           \n",
       "max                                         14104.000000                                           \n",
       "\n",
       "       race_total population_one race_american indian and alaska native_chippewa tribal grouping  \\\n",
       "count                                        3220.000000                                           \n",
       "mean                                           36.718634                                           \n",
       "std                                           300.672832                                           \n",
       "min                                             0.000000                                           \n",
       "25%                                             0.000000                                           \n",
       "50%                                             0.000000                                           \n",
       "75%                                             6.000000                                           \n",
       "max                                         10609.000000                                           \n",
       "\n",
       "       ...  sex and age_total population_21 years and over  \\\n",
       "count  ...                                    3.220000e+03   \n",
       "mean   ...                                    7.412272e+04   \n",
       "std    ...                                    2.384994e+05   \n",
       "min    ...                                    6.900000e+01   \n",
       "25%    ...                                    8.314250e+03   \n",
       "50%    ...                                    1.936550e+04   \n",
       "75%    ...                                    4.906400e+04   \n",
       "max    ...                                    7.433332e+06   \n",
       "\n",
       "       sex and age_total population_62 years and over  \\\n",
       "count                                    3.220000e+03   \n",
       "mean                                     1.906676e+04   \n",
       "std                                      5.470009e+04   \n",
       "min                                      1.900000e+01   \n",
       "25%                                      2.583750e+03   \n",
       "50%                                      5.704500e+03   \n",
       "75%                                      1.435650e+04   \n",
       "max                                      1.610630e+06   \n",
       "\n",
       "       sex and age_total population_65 years and over  \\\n",
       "count                                    3.220000e+03   \n",
       "mean                                     1.549044e+04   \n",
       "std                                      4.432602e+04   \n",
       "min                                      1.200000e+01   \n",
       "25%                                      2.111500e+03   \n",
       "50%                                      4.698500e+03   \n",
       "75%                                      1.171375e+04   \n",
       "max                                      1.299277e+06   \n",
       "\n",
       "       sex and age_total population_18 years and over_1  \\\n",
       "count                                      3.220000e+03   \n",
       "mean                                       7.827602e+04   \n",
       "std                                        2.513513e+05   \n",
       "min                                        7.100000e+01   \n",
       "25%                                        8.691500e+03   \n",
       "50%                                        2.026050e+04   \n",
       "75%                                        5.200525e+04   \n",
       "max                                        7.851531e+06   \n",
       "\n",
       "       sex and age_total population_18 years and over_male  \\\n",
       "count                                       3.220000e+03     \n",
       "mean                                        3.809320e+04     \n",
       "std                                         1.220023e+05     \n",
       "min                                         3.600000e+01     \n",
       "25%                                         4.355250e+03     \n",
       "50%                                         9.997500e+03     \n",
       "75%                                         2.557400e+04     \n",
       "max                                         3.827779e+06     \n",
       "\n",
       "       sex and age_total population_18 years and over_female  \\\n",
       "count                                       3.220000e+03       \n",
       "mean                                        4.018282e+04       \n",
       "std                                         1.293948e+05       \n",
       "min                                         3.100000e+01       \n",
       "25%                                         4.285250e+03       \n",
       "50%                                         1.019050e+04       \n",
       "75%                                         2.664950e+04       \n",
       "max                                         4.023752e+06       \n",
       "\n",
       "       sex and age_total population_18 years and over_sex ratio (males per 100 females)  \\\n",
       "count                                        3220.000000                                  \n",
       "mean                                           99.439317                                  \n",
       "std                                            14.740158                                  \n",
       "min                                            70.800000                                  \n",
       "25%                                            93.000000                                  \n",
       "50%                                            96.500000                                  \n",
       "75%                                           100.800000                                  \n",
       "max                                           414.700000                                  \n",
       "\n",
       "       sex and age_total population_65 years and over_1  \\\n",
       "count                                      3.220000e+03   \n",
       "mean                                       1.549044e+04   \n",
       "std                                        4.432602e+04   \n",
       "min                                        1.200000e+01   \n",
       "25%                                        2.111500e+03   \n",
       "50%                                        4.698500e+03   \n",
       "75%                                        1.171375e+04   \n",
       "max                                        1.299277e+06   \n",
       "\n",
       "       sex and age_total population_65 years and over_male  \\\n",
       "count                                        3220.000000     \n",
       "mean                                         6850.940683     \n",
       "std                                         19234.567636     \n",
       "min                                             0.000000     \n",
       "25%                                           984.750000     \n",
       "50%                                          2129.500000     \n",
       "75%                                          5234.000000     \n",
       "max                                        561006.000000     \n",
       "\n",
       "       sex and age_total population_65 years and over_female  \n",
       "count                                        3220.000000      \n",
       "mean                                         8639.495342      \n",
       "std                                         25111.933583      \n",
       "min                                            10.000000      \n",
       "25%                                          1126.000000      \n",
       "50%                                          2548.000000      \n",
       "75%                                          6314.500000      \n",
       "max                                        738271.000000      \n",
       "\n",
       "[8 rows x 89 columns]"
      ]
     },
     "execution_count": 4,
     "metadata": {},
     "output_type": "execute_result"
    }
   ],
   "source": [
    "mydata.describe()"
   ]
  },
  {
   "cell_type": "code",
   "execution_count": 5,
   "metadata": {},
   "outputs": [
    {
     "data": {
      "text/plain": [
       "(3220, 95)"
      ]
     },
     "execution_count": 5,
     "metadata": {},
     "output_type": "execute_result"
    }
   ],
   "source": [
    "mydata.shape"
   ]
  },
  {
   "cell_type": "markdown",
   "metadata": {},
   "source": [
    "There are 3,220 records (each record represents a county) and 95 features in the dataframe."
   ]
  },
  {
   "cell_type": "code",
   "execution_count": 6,
   "metadata": {},
   "outputs": [],
   "source": [
    "x = mydata[\"Diabetes_Number\"]\n",
    "y = mydata[\"Obesity_Number\"]\n",
    "z = mydata[\"race_total population\"]"
   ]
  },
  {
   "cell_type": "code",
   "execution_count": 7,
   "metadata": {},
   "outputs": [
    {
     "data": {
      "image/png": "[encoded data removed]",
      "text/plain": [
       "<Figure size 432x288 with 1 Axes>"
      ]
     },
     "metadata": {
      "needs_background": "light"
     },
     "output_type": "display_data"
    }
   ],
   "source": [
    "# note from Angel: I added the x and y labels but there are too many tick marks, making the graph unreadable\n",
    "plt.scatter(x, y)\n",
    "plt.xlabel('Diabetes')\n",
    "plt.ylabel('Obesity')\n",
    "plt.show()"
   ]
  },
  {
   "cell_type": "markdown",
   "metadata": {},
   "source": [
    "## Section 3"
   ]
  },
  {
   "cell_type": "markdown",
   "metadata": {},
   "source": [
    "### 3.1 Clean Data"
   ]
  },
  {
   "cell_type": "markdown",
   "metadata": {},
   "source": [
    "_Remove any features that should not be used in the analysis (for instance, county\n",
    "name), transform categorical features so they can be used in a machine learning\n",
    "pipeline, and conduct any other steps necessary to prepare the data for fitting\n",
    "models._"
   ]
  },
  {
   "cell_type": "code",
   "execution_count": 8,
   "metadata": {},
   "outputs": [
    {
     "data": {
      "text/html": [
       "<div>\n",
       "<style scoped>\n",
       "    .dataframe tbody tr th:only-of-type {\n",
       "        vertical-align: middle;\n",
       "    }\n",
       "\n",
       "    .dataframe tbody tr th {\n",
       "        vertical-align: top;\n",
       "    }\n",
       "\n",
       "    .dataframe thead th {\n",
       "        text-align: right;\n",
       "    }\n",
       "</style>\n",
       "<table border=\"1\" class=\"dataframe\">\n",
       "  <thead>\n",
       "    <tr style=\"text-align: right;\">\n",
       "      <th></th>\n",
       "      <th>County</th>\n",
       "      <th>State</th>\n",
       "      <th>CountyFIPS</th>\n",
       "      <th>Diabetes_Number</th>\n",
       "      <th>Obesity_Number</th>\n",
       "      <th>Physical_Inactivity_Number</th>\n",
       "      <th>sex and age_total population_65 years and over_sex ratio (males per 100 females)</th>\n",
       "      <th>race_total population</th>\n",
       "      <th>race_total population_one race</th>\n",
       "      <th>race_total population_two or more races</th>\n",
       "      <th>...</th>\n",
       "      <th>sex and age_total population_21 years and over</th>\n",
       "      <th>sex and age_total population_62 years and over</th>\n",
       "      <th>sex and age_total population_65 years and over</th>\n",
       "      <th>sex and age_total population_18 years and over_1</th>\n",
       "      <th>sex and age_total population_18 years and over_male</th>\n",
       "      <th>sex and age_total population_18 years and over_female</th>\n",
       "      <th>sex and age_total population_18 years and over_sex ratio (males per 100 females)</th>\n",
       "      <th>sex and age_total population_65 years and over_1</th>\n",
       "      <th>sex and age_total population_65 years and over_male</th>\n",
       "      <th>sex and age_total population_65 years and over_female</th>\n",
       "    </tr>\n",
       "  </thead>\n",
       "  <tbody>\n",
       "    <tr>\n",
       "      <th>0</th>\n",
       "      <td>Autauga County</td>\n",
       "      <td>Alabama</td>\n",
       "      <td>1001</td>\n",
       "      <td>5178</td>\n",
       "      <td>13489</td>\n",
       "      <td>12525</td>\n",
       "      <td>76.5</td>\n",
       "      <td>55200</td>\n",
       "      <td>54170</td>\n",
       "      <td>1030</td>\n",
       "      <td>...</td>\n",
       "      <td>39614</td>\n",
       "      <td>9403</td>\n",
       "      <td>8050</td>\n",
       "      <td>41831</td>\n",
       "      <td>20054</td>\n",
       "      <td>21777</td>\n",
       "      <td>92.1</td>\n",
       "      <td>8050</td>\n",
       "      <td>3488</td>\n",
       "      <td>4562</td>\n",
       "    </tr>\n",
       "    <tr>\n",
       "      <th>1</th>\n",
       "      <td>Baldwin County</td>\n",
       "      <td>Alabama</td>\n",
       "      <td>1003</td>\n",
       "      <td>16707</td>\n",
       "      <td>48542</td>\n",
       "      <td>40024</td>\n",
       "      <td>86.6</td>\n",
       "      <td>208107</td>\n",
       "      <td>204535</td>\n",
       "      <td>3572</td>\n",
       "      <td>...</td>\n",
       "      <td>155502</td>\n",
       "      <td>49811</td>\n",
       "      <td>40665</td>\n",
       "      <td>162430</td>\n",
       "      <td>78104</td>\n",
       "      <td>84326</td>\n",
       "      <td>92.6</td>\n",
       "      <td>40665</td>\n",
       "      <td>18870</td>\n",
       "      <td>21795</td>\n",
       "    </tr>\n",
       "    <tr>\n",
       "      <th>2</th>\n",
       "      <td>Barbour County</td>\n",
       "      <td>Alabama</td>\n",
       "      <td>1005</td>\n",
       "      <td>3400</td>\n",
       "      <td>8009</td>\n",
       "      <td>5431</td>\n",
       "      <td>76.2</td>\n",
       "      <td>25782</td>\n",
       "      <td>25429</td>\n",
       "      <td>353</td>\n",
       "      <td>...</td>\n",
       "      <td>19394</td>\n",
       "      <td>5658</td>\n",
       "      <td>4634</td>\n",
       "      <td>20346</td>\n",
       "      <td>10923</td>\n",
       "      <td>9423</td>\n",
       "      <td>115.9</td>\n",
       "      <td>4634</td>\n",
       "      <td>2004</td>\n",
       "      <td>2630</td>\n",
       "    </tr>\n",
       "    <tr>\n",
       "      <th>3</th>\n",
       "      <td>Bibb County</td>\n",
       "      <td>Alabama</td>\n",
       "      <td>1007</td>\n",
       "      <td>2371</td>\n",
       "      <td>6534</td>\n",
       "      <td>5827</td>\n",
       "      <td>80.5</td>\n",
       "      <td>22527</td>\n",
       "      <td>22340</td>\n",
       "      <td>187</td>\n",
       "      <td>...</td>\n",
       "      <td>16864</td>\n",
       "      <td>4323</td>\n",
       "      <td>3661</td>\n",
       "      <td>17868</td>\n",
       "      <td>9578</td>\n",
       "      <td>8290</td>\n",
       "      <td>115.5</td>\n",
       "      <td>3661</td>\n",
       "      <td>1633</td>\n",
       "      <td>2028</td>\n",
       "    </tr>\n",
       "    <tr>\n",
       "      <th>4</th>\n",
       "      <td>Blount County</td>\n",
       "      <td>Alabama</td>\n",
       "      <td>1009</td>\n",
       "      <td>6282</td>\n",
       "      <td>14227</td>\n",
       "      <td>14365</td>\n",
       "      <td>79.7</td>\n",
       "      <td>57645</td>\n",
       "      <td>56710</td>\n",
       "      <td>935</td>\n",
       "      <td>...</td>\n",
       "      <td>42232</td>\n",
       "      <td>12400</td>\n",
       "      <td>10233</td>\n",
       "      <td>44177</td>\n",
       "      <td>21595</td>\n",
       "      <td>22582</td>\n",
       "      <td>95.6</td>\n",
       "      <td>10233</td>\n",
       "      <td>4540</td>\n",
       "      <td>5693</td>\n",
       "    </tr>\n",
       "  </tbody>\n",
       "</table>\n",
       "<p>5 rows × 95 columns</p>\n",
       "</div>"
      ],
      "text/plain": [
       "           County    State  CountyFIPS Diabetes_Number Obesity_Number  \\\n",
       "0  Autauga County  Alabama        1001            5178          13489   \n",
       "1  Baldwin County  Alabama        1003           16707          48542   \n",
       "2  Barbour County  Alabama        1005            3400           8009   \n",
       "3     Bibb County  Alabama        1007            2371           6534   \n",
       "4   Blount County  Alabama        1009            6282          14227   \n",
       "\n",
       "  Physical_Inactivity_Number  \\\n",
       "0                      12525   \n",
       "1                      40024   \n",
       "2                       5431   \n",
       "3                       5827   \n",
       "4                      14365   \n",
       "\n",
       "  sex and age_total population_65 years and over_sex ratio (males per 100 females)  \\\n",
       "0                                               76.5                                 \n",
       "1                                               86.6                                 \n",
       "2                                               76.2                                 \n",
       "3                                               80.5                                 \n",
       "4                                               79.7                                 \n",
       "\n",
       "   race_total population  race_total population_one race  \\\n",
       "0                  55200                           54170   \n",
       "1                 208107                          204535   \n",
       "2                  25782                           25429   \n",
       "3                  22527                           22340   \n",
       "4                  57645                           56710   \n",
       "\n",
       "   race_total population_two or more races  ...  \\\n",
       "0                                     1030  ...   \n",
       "1                                     3572  ...   \n",
       "2                                      353  ...   \n",
       "3                                      187  ...   \n",
       "4                                      935  ...   \n",
       "\n",
       "   sex and age_total population_21 years and over  \\\n",
       "0                                           39614   \n",
       "1                                          155502   \n",
       "2                                           19394   \n",
       "3                                           16864   \n",
       "4                                           42232   \n",
       "\n",
       "   sex and age_total population_62 years and over  \\\n",
       "0                                            9403   \n",
       "1                                           49811   \n",
       "2                                            5658   \n",
       "3                                            4323   \n",
       "4                                           12400   \n",
       "\n",
       "   sex and age_total population_65 years and over  \\\n",
       "0                                            8050   \n",
       "1                                           40665   \n",
       "2                                            4634   \n",
       "3                                            3661   \n",
       "4                                           10233   \n",
       "\n",
       "   sex and age_total population_18 years and over_1  \\\n",
       "0                                             41831   \n",
       "1                                            162430   \n",
       "2                                             20346   \n",
       "3                                             17868   \n",
       "4                                             44177   \n",
       "\n",
       "   sex and age_total population_18 years and over_male  \\\n",
       "0                                              20054     \n",
       "1                                              78104     \n",
       "2                                              10923     \n",
       "3                                               9578     \n",
       "4                                              21595     \n",
       "\n",
       "   sex and age_total population_18 years and over_female  \\\n",
       "0                                              21777       \n",
       "1                                              84326       \n",
       "2                                               9423       \n",
       "3                                               8290       \n",
       "4                                              22582       \n",
       "\n",
       "   sex and age_total population_18 years and over_sex ratio (males per 100 females)  \\\n",
       "0                                               92.1                                  \n",
       "1                                               92.6                                  \n",
       "2                                              115.9                                  \n",
       "3                                              115.5                                  \n",
       "4                                               95.6                                  \n",
       "\n",
       "   sex and age_total population_65 years and over_1  \\\n",
       "0                                              8050   \n",
       "1                                             40665   \n",
       "2                                              4634   \n",
       "3                                              3661   \n",
       "4                                             10233   \n",
       "\n",
       "   sex and age_total population_65 years and over_male  \\\n",
       "0                                               3488     \n",
       "1                                              18870     \n",
       "2                                               2004     \n",
       "3                                               1633     \n",
       "4                                               4540     \n",
       "\n",
       "   sex and age_total population_65 years and over_female  \n",
       "0                                               4562      \n",
       "1                                              21795      \n",
       "2                                               2630      \n",
       "3                                               2028      \n",
       "4                                               5693      \n",
       "\n",
       "[5 rows x 95 columns]"
      ]
     },
     "execution_count": 8,
     "metadata": {},
     "output_type": "execute_result"
    }
   ],
   "source": [
    "mydata.head()"
   ]
  },
  {
   "cell_type": "code",
   "execution_count": 9,
   "metadata": {},
   "outputs": [],
   "source": [
    "# remove features not used in analysis -- county name, state name\n",
    "mydata = mydata.drop(['County', 'State'], axis = 1)"
   ]
  },
  {
   "cell_type": "code",
   "execution_count": 10,
   "metadata": {},
   "outputs": [],
   "source": [
    "# there were sneaky values in here that were making many cols non-numeric\n",
    "mydata = mydata.apply(pd.to_numeric, errors = 'coerce')"
   ]
  },
  {
   "cell_type": "markdown",
   "metadata": {},
   "source": [
    "Normalize all columns (except CountyFIPS, an id column) by total population."
   ]
  },
  {
   "cell_type": "code",
   "execution_count": 11,
   "metadata": {},
   "outputs": [],
   "source": [
    "mydata_norm = mydata.drop(['CountyFIPS','race_total population'], axis = 1).div(mydata['race_total population'], axis='index')\n",
    "# add back in CountyFIPS and total population\n",
    "mydata_norm['CountyFIPS'] = mydata['CountyFIPS']\n",
    "mydata_norm['race_total population'] = mydata['race_total population']"
   ]
  },
  {
   "cell_type": "markdown",
   "metadata": {},
   "source": [
    "Visualize the distribution of county diabetes rate."
   ]
  },
  {
   "cell_type": "code",
   "execution_count": 12,
   "metadata": {},
   "outputs": [
    {
     "data": {
      "image/png": "[encoded data removed]",
      "text/plain": [
       "<Figure size 432x288 with 1 Axes>"
      ]
     },
     "metadata": {
      "needs_background": "light"
     },
     "output_type": "display_data"
    }
   ],
   "source": [
    "# this produces a county diabetes rate, whose distribution we now visualize\n",
    "mydata_norm.hist(column='Diabetes_Number')\n",
    "plt.show() #added this to get rid of the array text on top of the chart"
   ]
  },
  {
   "cell_type": "markdown",
   "metadata": {},
   "source": [
    "Create a binary variable identifying counties with diabetes rates that are above average. This is what we will predict."
   ]
  },
  {
   "cell_type": "code",
   "execution_count": 13,
   "metadata": {},
   "outputs": [
    {
     "data": {
      "text/html": [
       "<div>\n",
       "<style scoped>\n",
       "    .dataframe tbody tr th:only-of-type {\n",
       "        vertical-align: middle;\n",
       "    }\n",
       "\n",
       "    .dataframe tbody tr th {\n",
       "        vertical-align: top;\n",
       "    }\n",
       "\n",
       "    .dataframe thead th {\n",
       "        text-align: right;\n",
       "    }\n",
       "</style>\n",
       "<table border=\"1\" class=\"dataframe\">\n",
       "  <thead>\n",
       "    <tr style=\"text-align: right;\">\n",
       "      <th></th>\n",
       "      <th>Diabetes_Number</th>\n",
       "      <th>Obesity_Number</th>\n",
       "      <th>Physical_Inactivity_Number</th>\n",
       "      <th>sex and age_total population_65 years and over_sex ratio (males per 100 females)</th>\n",
       "      <th>race_total population_one race</th>\n",
       "      <th>race_total population_two or more races</th>\n",
       "      <th>race_total population_one race_1</th>\n",
       "      <th>race_total population_one race_white</th>\n",
       "      <th>race_total population_one race_black or african american</th>\n",
       "      <th>race_total population_one race_american indian and alaska native</th>\n",
       "      <th>...</th>\n",
       "      <th>sex and age_total population_65 years and over</th>\n",
       "      <th>sex and age_total population_18 years and over_1</th>\n",
       "      <th>sex and age_total population_18 years and over_male</th>\n",
       "      <th>sex and age_total population_18 years and over_female</th>\n",
       "      <th>sex and age_total population_18 years and over_sex ratio (males per 100 females)</th>\n",
       "      <th>sex and age_total population_65 years and over_1</th>\n",
       "      <th>sex and age_total population_65 years and over_male</th>\n",
       "      <th>sex and age_total population_65 years and over_female</th>\n",
       "      <th>CountyFIPS</th>\n",
       "      <th>diabetes_top_quartile</th>\n",
       "    </tr>\n",
       "  </thead>\n",
       "  <tbody>\n",
       "    <tr>\n",
       "      <th>0</th>\n",
       "      <td>0.093804</td>\n",
       "      <td>0.244366</td>\n",
       "      <td>0.226902</td>\n",
       "      <td>0.001386</td>\n",
       "      <td>0.981341</td>\n",
       "      <td>0.018659</td>\n",
       "      <td>0.981341</td>\n",
       "      <td>0.768786</td>\n",
       "      <td>0.191395</td>\n",
       "      <td>0.002880</td>\n",
       "      <td>...</td>\n",
       "      <td>0.145833</td>\n",
       "      <td>0.757808</td>\n",
       "      <td>0.363297</td>\n",
       "      <td>0.394511</td>\n",
       "      <td>0.001668</td>\n",
       "      <td>0.145833</td>\n",
       "      <td>0.063188</td>\n",
       "      <td>0.082645</td>\n",
       "      <td>1001</td>\n",
       "      <td>0</td>\n",
       "    </tr>\n",
       "    <tr>\n",
       "      <th>1</th>\n",
       "      <td>0.080281</td>\n",
       "      <td>0.233255</td>\n",
       "      <td>0.192324</td>\n",
       "      <td>0.000416</td>\n",
       "      <td>0.982836</td>\n",
       "      <td>0.017164</td>\n",
       "      <td>0.982836</td>\n",
       "      <td>0.862662</td>\n",
       "      <td>0.094970</td>\n",
       "      <td>0.007314</td>\n",
       "      <td>...</td>\n",
       "      <td>0.195404</td>\n",
       "      <td>0.780512</td>\n",
       "      <td>0.375307</td>\n",
       "      <td>0.405205</td>\n",
       "      <td>0.000445</td>\n",
       "      <td>0.195404</td>\n",
       "      <td>0.090675</td>\n",
       "      <td>0.104730</td>\n",
       "      <td>1003</td>\n",
       "      <td>0</td>\n",
       "    </tr>\n",
       "    <tr>\n",
       "      <th>2</th>\n",
       "      <td>0.131875</td>\n",
       "      <td>0.310643</td>\n",
       "      <td>0.210651</td>\n",
       "      <td>0.002956</td>\n",
       "      <td>0.986308</td>\n",
       "      <td>0.013692</td>\n",
       "      <td>0.986308</td>\n",
       "      <td>0.473819</td>\n",
       "      <td>0.475758</td>\n",
       "      <td>0.002793</td>\n",
       "      <td>...</td>\n",
       "      <td>0.179738</td>\n",
       "      <td>0.789155</td>\n",
       "      <td>0.423668</td>\n",
       "      <td>0.365488</td>\n",
       "      <td>0.004495</td>\n",
       "      <td>0.179738</td>\n",
       "      <td>0.077729</td>\n",
       "      <td>0.102009</td>\n",
       "      <td>1005</td>\n",
       "      <td>1</td>\n",
       "    </tr>\n",
       "    <tr>\n",
       "      <th>3</th>\n",
       "      <td>0.105251</td>\n",
       "      <td>0.290052</td>\n",
       "      <td>0.258667</td>\n",
       "      <td>0.003573</td>\n",
       "      <td>0.991699</td>\n",
       "      <td>0.008301</td>\n",
       "      <td>0.991699</td>\n",
       "      <td>0.766547</td>\n",
       "      <td>0.222755</td>\n",
       "      <td>0.000355</td>\n",
       "      <td>...</td>\n",
       "      <td>0.162516</td>\n",
       "      <td>0.793182</td>\n",
       "      <td>0.425179</td>\n",
       "      <td>0.368003</td>\n",
       "      <td>0.005127</td>\n",
       "      <td>0.162516</td>\n",
       "      <td>0.072491</td>\n",
       "      <td>0.090025</td>\n",
       "      <td>1007</td>\n",
       "      <td>0</td>\n",
       "    </tr>\n",
       "    <tr>\n",
       "      <th>4</th>\n",
       "      <td>0.108977</td>\n",
       "      <td>0.246804</td>\n",
       "      <td>0.249198</td>\n",
       "      <td>0.001383</td>\n",
       "      <td>0.983780</td>\n",
       "      <td>0.016220</td>\n",
       "      <td>0.983780</td>\n",
       "      <td>0.955052</td>\n",
       "      <td>0.014954</td>\n",
       "      <td>0.002446</td>\n",
       "      <td>...</td>\n",
       "      <td>0.177518</td>\n",
       "      <td>0.766363</td>\n",
       "      <td>0.374621</td>\n",
       "      <td>0.391743</td>\n",
       "      <td>0.001658</td>\n",
       "      <td>0.177518</td>\n",
       "      <td>0.078758</td>\n",
       "      <td>0.098760</td>\n",
       "      <td>1009</td>\n",
       "      <td>0</td>\n",
       "    </tr>\n",
       "  </tbody>\n",
       "</table>\n",
       "<p>5 rows × 93 columns</p>\n",
       "</div>"
      ],
      "text/plain": [
       "   Diabetes_Number  Obesity_Number  Physical_Inactivity_Number  \\\n",
       "0         0.093804        0.244366                    0.226902   \n",
       "1         0.080281        0.233255                    0.192324   \n",
       "2         0.131875        0.310643                    0.210651   \n",
       "3         0.105251        0.290052                    0.258667   \n",
       "4         0.108977        0.246804                    0.249198   \n",
       "\n",
       "   sex and age_total population_65 years and over_sex ratio (males per 100 females)  \\\n",
       "0                                           0.001386                                  \n",
       "1                                           0.000416                                  \n",
       "2                                           0.002956                                  \n",
       "3                                           0.003573                                  \n",
       "4                                           0.001383                                  \n",
       "\n",
       "   race_total population_one race  race_total population_two or more races  \\\n",
       "0                        0.981341                                 0.018659   \n",
       "1                        0.982836                                 0.017164   \n",
       "2                        0.986308                                 0.013692   \n",
       "3                        0.991699                                 0.008301   \n",
       "4                        0.983780                                 0.016220   \n",
       "\n",
       "   race_total population_one race_1  race_total population_one race_white  \\\n",
       "0                          0.981341                              0.768786   \n",
       "1                          0.982836                              0.862662   \n",
       "2                          0.986308                              0.473819   \n",
       "3                          0.991699                              0.766547   \n",
       "4                          0.983780                              0.955052   \n",
       "\n",
       "   race_total population_one race_black or african american  \\\n",
       "0                                           0.191395          \n",
       "1                                           0.094970          \n",
       "2                                           0.475758          \n",
       "3                                           0.222755          \n",
       "4                                           0.014954          \n",
       "\n",
       "   race_total population_one race_american indian and alaska native  ...  \\\n",
       "0                                           0.002880                 ...   \n",
       "1                                           0.007314                 ...   \n",
       "2                                           0.002793                 ...   \n",
       "3                                           0.000355                 ...   \n",
       "4                                           0.002446                 ...   \n",
       "\n",
       "   sex and age_total population_65 years and over  \\\n",
       "0                                        0.145833   \n",
       "1                                        0.195404   \n",
       "2                                        0.179738   \n",
       "3                                        0.162516   \n",
       "4                                        0.177518   \n",
       "\n",
       "   sex and age_total population_18 years and over_1  \\\n",
       "0                                          0.757808   \n",
       "1                                          0.780512   \n",
       "2                                          0.789155   \n",
       "3                                          0.793182   \n",
       "4                                          0.766363   \n",
       "\n",
       "   sex and age_total population_18 years and over_male  \\\n",
       "0                                           0.363297     \n",
       "1                                           0.375307     \n",
       "2                                           0.423668     \n",
       "3                                           0.425179     \n",
       "4                                           0.374621     \n",
       "\n",
       "   sex and age_total population_18 years and over_female  \\\n",
       "0                                           0.394511       \n",
       "1                                           0.405205       \n",
       "2                                           0.365488       \n",
       "3                                           0.368003       \n",
       "4                                           0.391743       \n",
       "\n",
       "   sex and age_total population_18 years and over_sex ratio (males per 100 females)  \\\n",
       "0                                           0.001668                                  \n",
       "1                                           0.000445                                  \n",
       "2                                           0.004495                                  \n",
       "3                                           0.005127                                  \n",
       "4                                           0.001658                                  \n",
       "\n",
       "   sex and age_total population_65 years and over_1  \\\n",
       "0                                          0.145833   \n",
       "1                                          0.195404   \n",
       "2                                          0.179738   \n",
       "3                                          0.162516   \n",
       "4                                          0.177518   \n",
       "\n",
       "   sex and age_total population_65 years and over_male  \\\n",
       "0                                           0.063188     \n",
       "1                                           0.090675     \n",
       "2                                           0.077729     \n",
       "3                                           0.072491     \n",
       "4                                           0.078758     \n",
       "\n",
       "   sex and age_total population_65 years and over_female  CountyFIPS  \\\n",
       "0                                           0.082645            1001   \n",
       "1                                           0.104730            1003   \n",
       "2                                           0.102009            1005   \n",
       "3                                           0.090025            1007   \n",
       "4                                           0.098760            1009   \n",
       "\n",
       "   diabetes_top_quartile  \n",
       "0                      0  \n",
       "1                      0  \n",
       "2                      1  \n",
       "3                      0  \n",
       "4                      0  \n",
       "\n",
       "[5 rows x 93 columns]"
      ]
     },
     "execution_count": 13,
     "metadata": {},
     "output_type": "execute_result"
    }
   ],
   "source": [
    "# predict counties with diabetes rates in the top quartile of diabetes rates\n",
    "mydata_norm['diabetes_top_quartile'] = np.where(mydata_norm['Diabetes_Number'] > np.nanquantile(mydata_norm['Diabetes_Number'], q=0.75), 1, 0)\n",
    "mydata_norm = mydata_norm.dropna(axis=0, how='any')\n",
    "# remove race total column, which was breaking logreg model\n",
    "mydata_norm = mydata_norm.drop('race_total population', axis=1)\n",
    "mydata_norm.head()"
   ]
  },
  {
   "cell_type": "markdown",
   "metadata": {},
   "source": [
    "### 3.2 Partition Data"
   ]
  },
  {
   "cell_type": "markdown",
   "metadata": {},
   "source": [
    "_Partition the data into train, validation, and test sets. Explain your choice of how much data to include in each set, and the tradeoffs involved with differing sizes in each set. Also describe the purpose of each set._"
   ]
  },
  {
   "cell_type": "code",
   "execution_count": 14,
   "metadata": {},
   "outputs": [],
   "source": [
    "y = mydata_norm['diabetes_top_quartile'] # assign predicted variable\n",
    "X = mydata_norm.drop(['Diabetes_Number','diabetes_top_quartile'], axis = 1) # assign the rest as predictors"
   ]
  },
  {
   "cell_type": "code",
   "execution_count": 15,
   "metadata": {},
   "outputs": [],
   "source": [
    "from sklearn.model_selection import train_test_split\n",
    "\n",
    "# set the random seed\n",
    "np.random.seed(10)\n",
    "\n",
    "# split the data\n",
    "# train_test_split returns 4 values: X_train, X_test, y_train, y_test\n",
    "\n",
    "X_train, X_test, y_train, y_test = train_test_split(X, y,\n",
    "                                                    train_size=0.70, test_size=0.30)"
   ]
  },
  {
   "cell_type": "code",
   "execution_count": 16,
   "metadata": {},
   "outputs": [
    {
     "name": "stdout",
     "output_type": "stream",
     "text": [
      "Shape of X train is (2178, 91)\n",
      "Shape of y_train is (2178,)\n",
      "Shape of X_test is (934, 91)\n",
      "Shape of y_test is (934,)\n"
     ]
    }
   ],
   "source": [
    "# check\n",
    "print(\"Shape of X train is\", X_train.shape)\n",
    "print(\"Shape of y_train is\", y_train.shape)\n",
    "print(\"Shape of X_test is\", X_test.shape)\n",
    "print(\"Shape of y_test is\", y_test.shape)"
   ]
  },
  {
   "cell_type": "markdown",
   "metadata": {},
   "source": [
    "We select a training set size of 70% because we do not expect to include very many features in our model. Therefore, because the model is not too complex, we do not believe we need a particularly large training set."
   ]
  },
  {
   "cell_type": "markdown",
   "metadata": {},
   "source": [
    "### 3.3 Feature Selection"
   ]
  },
  {
   "cell_type": "markdown",
   "metadata": {},
   "source": [
    "_Investigate whether there are any features that you should remove prior to model fitting. For example, you might investigate whether there are highly correlated features or features with low variance. You may also consider using plots and relationships you found in the EDA stage for this question._\n",
    "\n",
    "First, to take a peek, we look at all column names."
   ]
  },
  {
   "cell_type": "code",
   "execution_count": 17,
   "metadata": {},
   "outputs": [
    {
     "name": "stdout",
     "output_type": "stream",
     "text": [
      "['Obesity_Number' 'Physical_Inactivity_Number'\n",
      " 'sex and age_total population_65 years and over_sex ratio (males per 100 females)'\n",
      " 'race_total population_one race'\n",
      " 'race_total population_two or more races'\n",
      " 'race_total population_one race_1' 'race_total population_one race_white'\n",
      " 'race_total population_one race_black or african american'\n",
      " 'race_total population_one race_american indian and alaska native'\n",
      " 'race_total population_one race_american indian and alaska native_cherokee tribal grouping'\n",
      " 'race_total population_one race_american indian and alaska native_chippewa tribal grouping'\n",
      " 'race_total population_one race_american indian and alaska native_navajo tribal grouping'\n",
      " 'race_total population_one race_american indian and alaska native_sioux tribal grouping'\n",
      " 'race_total population_one race_asian'\n",
      " 'race_total population_one race_asian_asian indian'\n",
      " 'race_total population_one race_asian_chinese'\n",
      " 'race_total population_one race_asian_filipino'\n",
      " 'race_total population_one race_asian_japanese'\n",
      " 'race_total population_one race_asian_korean'\n",
      " 'race_total population_one race_asian_vietnamese'\n",
      " 'race_total population_one race_asian_other asian'\n",
      " 'race_total population_one race_native hawaiian and other pacific islander'\n",
      " 'race_total population_one race_native hawaiian and other pacific islander_native hawaiian'\n",
      " 'race_total population_one race_native hawaiian and other pacific islander_guamanian or chamorro'\n",
      " 'race_total population_one race_native hawaiian and other pacific islander_samoan'\n",
      " 'race_total population_one race_native hawaiian and other pacific islander_other pacific islander'\n",
      " 'race_total population_one race_some other race'\n",
      " 'race_total population_two or more races_1'\n",
      " 'race_total population_two or more races_white and black or african american'\n",
      " 'race_total population_two or more races_white and american indian and alaska native'\n",
      " 'race_total population_two or more races_white and asian'\n",
      " 'race_total population_two or more races_black or african american and american indian and alaska native'\n",
      " 'race alone or in combination with one or more other races_total population'\n",
      " 'race alone or in combination with one or more other races_total population_white'\n",
      " 'race alone or in combination with one or more other races_total population_black or african american'\n",
      " 'race alone or in combination with one or more other races_total population_american indian and alaska native'\n",
      " 'race alone or in combination with one or more other races_total population_asian'\n",
      " 'race alone or in combination with one or more other races_total population_native hawaiian and other pacific islander'\n",
      " 'race alone or in combination with one or more other races_total population_some other race'\n",
      " 'hispanic or latino and race_total population'\n",
      " 'hispanic or latino and race_total population_hispanic or latino (of any race)'\n",
      " 'hispanic or latino and race_total population_hispanic or latino (of any race)_mexican'\n",
      " 'hispanic or latino and race_total population_hispanic or latino (of any race)_puerto rican'\n",
      " 'hispanic or latino and race_total population_hispanic or latino (of any race)_cuban'\n",
      " 'hispanic or latino and race_total population_hispanic or latino (of any race)_other hispanic or latino'\n",
      " 'hispanic or latino and race_total population_not hispanic or latino'\n",
      " 'hispanic or latino and race_total population_not hispanic or latino_white alone'\n",
      " 'hispanic or latino and race_total population_not hispanic or latino_black or african american alone'\n",
      " 'hispanic or latino and race_total population_not hispanic or latino_american indian and alaska native alone'\n",
      " 'hispanic or latino and race_total population_not hispanic or latino_asian alone'\n",
      " 'hispanic or latino and race_total population_not hispanic or latino_native hawaiian and other pacific islander alone'\n",
      " 'hispanic or latino and race_total population_not hispanic or latino_some other race alone'\n",
      " 'hispanic or latino and race_total population_not hispanic or latino_two or more races'\n",
      " 'hispanic or latino and race_total population_not hispanic or latino_two or more races_two races including some other race'\n",
      " 'hispanic or latino and race_total population_not hispanic or latino_two or more races_two races excluding some other race -  and three or more races'\n",
      " 'total housing units'\n",
      " 'citizen -  voting age population_citizen -  18 and over population'\n",
      " 'citizen -  voting age population_citizen -  18 and over population_male'\n",
      " 'citizen -  voting age population_citizen -  18 and over population_female'\n",
      " 'sex and age_total population' 'sex and age_total population_male'\n",
      " 'sex and age_total population_female'\n",
      " 'sex and age_total population_sex ratio (males per 100 females)'\n",
      " 'sex and age_total population_under 5 years'\n",
      " 'sex and age_total population_5 to 9 years'\n",
      " 'sex and age_total population_10 to 14 years'\n",
      " 'sex and age_total population_15 to 19 years'\n",
      " 'sex and age_total population_20 to 24 years'\n",
      " 'sex and age_total population_25 to 34 years'\n",
      " 'sex and age_total population_35 to 44 years'\n",
      " 'sex and age_total population_45 to 54 years'\n",
      " 'sex and age_total population_55 to 59 years'\n",
      " 'sex and age_total population_60 to 64 years'\n",
      " 'sex and age_total population_65 to 74 years'\n",
      " 'sex and age_total population_75 to 84 years'\n",
      " 'sex and age_total population_85 years and over'\n",
      " 'sex and age_total population_median age (years)'\n",
      " 'sex and age_total population_under 18 years'\n",
      " 'sex and age_total population_16 years and over'\n",
      " 'sex and age_total population_18 years and over'\n",
      " 'sex and age_total population_21 years and over'\n",
      " 'sex and age_total population_62 years and over'\n",
      " 'sex and age_total population_65 years and over'\n",
      " 'sex and age_total population_18 years and over_1'\n",
      " 'sex and age_total population_18 years and over_male'\n",
      " 'sex and age_total population_18 years and over_female'\n",
      " 'sex and age_total population_18 years and over_sex ratio (males per 100 females)'\n",
      " 'sex and age_total population_65 years and over_1'\n",
      " 'sex and age_total population_65 years and over_male'\n",
      " 'sex and age_total population_65 years and over_female' 'CountyFIPS']\n"
     ]
    }
   ],
   "source": [
    "print(X_train.columns.values)"
   ]
  },
  {
   "cell_type": "markdown",
   "metadata": {},
   "source": [
    "We have features that describe rates of males and females in a given county. Commonsensically, we will need to drop features that describe either males or females, because each implicitly describes the other -- these are rates with only two possible values. We will drop columns labeled \"female.\""
   ]
  },
  {
   "cell_type": "code",
   "execution_count": 18,
   "metadata": {},
   "outputs": [],
   "source": [
    "X_train = X_train[X_train.columns.drop(list(X_train.filter(regex='female')))]"
   ]
  },
  {
   "cell_type": "markdown",
   "metadata": {},
   "source": [
    "To be safe, we then create a correlation matrix and use it to drop any features with correlation greater than 0.8."
   ]
  },
  {
   "cell_type": "code",
   "execution_count": 19,
   "metadata": {},
   "outputs": [],
   "source": [
    "# create correlation matrix\n",
    "corr_matrix = X_train.corr().abs()\n",
    "\n",
    "# Select upper triangle of correlation matrix\n",
    "upper = corr_matrix.where(np.triu(np.ones(corr_matrix.shape), k=1).astype(np.bool))\n",
    "\n",
    "# Find features with correlation greater than 0.8\n",
    "to_drop = [column for column in upper.columns if any(upper[column] > 0.8)]\n",
    "\n",
    "# Drop features \n",
    "X_train.drop(to_drop, axis=1, inplace=True)"
   ]
  },
  {
   "cell_type": "markdown",
   "metadata": {},
   "source": [
    "Then, we drop features with low variance."
   ]
  },
  {
   "cell_type": "code",
   "execution_count": 20,
   "metadata": {},
   "outputs": [
    {
     "data": {
      "text/plain": [
       "array([[3.44657736e-01, 2.35395664e-01, 9.77213092e-01, ...,\n",
       "        1.23601712e-02, 8.42425079e-04, 2.20950000e+04],\n",
       "       [2.26699601e-01, 1.29547753e-01, 9.65191379e-01, ...,\n",
       "        1.48397541e-02, 9.03871583e-05, 2.70370000e+04],\n",
       "       [2.89733639e-01, 2.75754101e-01, 9.89460222e-01, ...,\n",
       "        1.21273593e-02, 1.86099841e-03, 2.11330000e+04],\n",
       "       ...,\n",
       "       [2.56629132e-01, 2.08136578e-01, 8.90119869e-01, ...,\n",
       "        1.85252452e-02, 6.52015983e-03, 2.70870000e+04],\n",
       "       [2.68293037e-01, 2.69760549e-01, 9.78016390e-01, ...,\n",
       "        1.77554342e-02, 6.01534348e-04, 1.32950000e+04],\n",
       "       [1.91948851e-01, 1.34346592e-01, 9.72946901e-01, ...,\n",
       "        2.01736412e-02, 1.23224684e-04, 2.61390000e+04]])"
      ]
     },
     "execution_count": 20,
     "metadata": {},
     "output_type": "execute_result"
    }
   ],
   "source": [
    "from sklearn.feature_selection import VarianceThreshold\n",
    "\n",
    "selector = VarianceThreshold()\n",
    "selector.fit_transform(X_train)"
   ]
  },
  {
   "cell_type": "markdown",
   "metadata": {},
   "source": [
    "Next, we create a validation set, so that we can save the use of our test set until the end of our analysis. The validation set will be used to move iteratively between train and validation as we tweak our model. Splitting the training data again, we'll have a final split of 60-20-20, train-validation-test."
   ]
  },
  {
   "cell_type": "code",
   "execution_count": 21,
   "metadata": {},
   "outputs": [],
   "source": [
    "X_train, X_validate, y_train, y_validate = train_test_split(X_train, y_train,\n",
    "                                                    train_size=0.75, test_size=0.25)"
   ]
  },
  {
   "cell_type": "code",
   "execution_count": 22,
   "metadata": {},
   "outputs": [
    {
     "name": "stdout",
     "output_type": "stream",
     "text": [
      "Shape of X train is (1633, 51)\n",
      "Shape of y_train is (1633,)\n",
      "Shape of X_validate is (545, 51)\n",
      "Shape of y_validate is (545,)\n"
     ]
    }
   ],
   "source": [
    "# check dimensions\n",
    "print(\"Shape of X train is\", X_train.shape)\n",
    "print(\"Shape of y_train is\", y_train.shape)\n",
    "print(\"Shape of X_validate is\", X_validate.shape)\n",
    "print(\"Shape of y_validate is\", y_validate.shape)"
   ]
  },
  {
   "cell_type": "markdown",
   "metadata": {},
   "source": [
    "## Section 4"
   ]
  },
  {
   "cell_type": "markdown",
   "metadata": {},
   "source": [
    "### 4.1 Model Descriptions"
   ]
  },
  {
   "cell_type": "markdown",
   "metadata": {},
   "source": [
    "_Choose 5 different machine learning techniques. Detail the basic logic and assumptions underlying each model, its pros/cons, and why it is a plausible choice for this problem._\n",
    "Note: We also incorporate validation (part 5.1) and feature selection (part 5.2) during this stage."
   ]
  },
  {
   "cell_type": "markdown",
   "metadata": {},
   "source": [
    "#### 4.1.1 Logistic Regression"
   ]
  },
  {
   "cell_type": "markdown",
   "metadata": {},
   "source": [
    "Because we have a classification problem, we will start with a logistic regression to fit our first model. It is a great place to start as it is one of the most commonly used models for classification problems and fairly easy to compute and interpret. Importantly, it fits a linear regression then ensures that probabilities do not go above 1 or below 0. Because of this, it will not capture nonlinear relationships."
   ]
  },
  {
   "cell_type": "code",
   "execution_count": 23,
   "metadata": {},
   "outputs": [],
   "source": [
    "#Defining RMSE\n",
    "def rmse(pred, actual):\n",
    "    return np.sqrt(np.mean((pred - actual) ** 2))"
   ]
  },
  {
   "cell_type": "code",
   "execution_count": 24,
   "metadata": {},
   "outputs": [
    {
     "data": {
      "text/plain": [
       "(array([0, 1]), array([1266,  367]))"
      ]
     },
     "execution_count": 24,
     "metadata": {},
     "output_type": "execute_result"
    }
   ],
   "source": [
    "#Check to make sure there are both 0 and 1 in train y\n",
    "np.unique(y_train, return_counts=True)"
   ]
  },
  {
   "cell_type": "code",
   "execution_count": 25,
   "metadata": {},
   "outputs": [],
   "source": [
    "from sklearn.linear_model import Ridge, Lasso, LogisticRegression\n",
    "from sklearn.metrics import confusion_matrix\n",
    "\n",
    "# create a model\n",
    "log_reg = LogisticRegression()\n",
    "\n",
    "# fit the model\n",
    "log_model = log_reg.fit(X_train.drop('CountyFIPS', axis = 1), y_train)\n",
    "\n",
    "y_pred = log_model.predict(X_validate.drop('CountyFIPS', axis = 1))\n",
    "\n",
    "# this runs the following ValueError: Input contains NaN, infinity or a value too large for dtype('float64').\n",
    "# I tried running X_train = np.nan_to_num(X_train) but didn't work\n",
    "# I also tried checking for NAN and infinity values for X_train: X_train.isinf().values.any() but also got errors"
   ]
  },
  {
   "cell_type": "markdown",
   "metadata": {},
   "source": [
    "Now we'd like to visualize how the model performed with a confusion matrix."
   ]
  },
  {
   "cell_type": "code",
   "execution_count": 26,
   "metadata": {},
   "outputs": [
    {
     "data": {
      "text/plain": [
       "(array([0, 1]), array([507,  38]))"
      ]
     },
     "execution_count": 26,
     "metadata": {},
     "output_type": "execute_result"
    }
   ],
   "source": [
    "#Check to make sure there are both 0 and 1 in predicted y\n",
    "np.unique(y_pred, return_counts=True)"
   ]
  },
  {
   "cell_type": "code",
   "execution_count": 27,
   "metadata": {},
   "outputs": [
    {
     "data": {
      "image/png": "[encoded data removed]",
      "text/plain": [
       "<Figure size 720x504 with 2 Axes>"
      ]
     },
     "metadata": {
      "needs_background": "light"
     },
     "output_type": "display_data"
    }
   ],
   "source": [
    "import seaborn as sns\n",
    "\n",
    "cf_matrix = confusion_matrix(y_validate, y_pred, normalize = \"true\")\n",
    "\n",
    "df_cm = pd.DataFrame(cf_matrix, range(2),\n",
    "                  range(2))\n",
    "\n",
    "df_cm = df_cm.rename(index=str, columns={0: \"Diabetes Rate Lower Than Top Quartile\", 1: \"Diabetes Rate in the Top Quartile\"})\n",
    "df_cm.index = [\"Diabetes Rate Lower Than Top Quartile\", \"Diabetes Rate in Top Quartile\"]\n",
    "plt.figure(figsize = (10,7))\n",
    "sns.set(font_scale=1.4)#for label size\n",
    "sns.heatmap(df_cm, \n",
    "           annot=True,\n",
    "           annot_kws={\"size\": 16},\n",
    "           fmt='g')\n",
    "\n",
    "plt.title(\"Confusion Matrix - Logistic Regression\")\n",
    "plt.xlabel(\"Predicted Label\")\n",
    "plt.ylabel(\"True Label\")\n",
    "plt.show()"
   ]
  },
  {
   "cell_type": "markdown",
   "metadata": {},
   "source": [
    "As shown in the confusion matrix above, the model correctly predicts counties with diabetes rates in the bottom 3/4th of the distribution 96.8% of the time. But it only correctly predicts counties in the top quantile 18.5% of the time. The other 81.5% of the time, it is incorrectly assigning counties with high diabetes rates as those in the bottom 75% of the distribution."
   ]
  },
  {
   "cell_type": "code",
   "execution_count": 28,
   "metadata": {},
   "outputs": [
    {
     "name": "stdout",
     "output_type": "stream",
     "text": [
      "{'C': 0.1, 'fit_intercept': 'True', 'solver': 'sag'}\n",
      "Best CV R^2: 0.8083243389098759\n",
      "Validation R^2: 0.7724770642201835\n",
      "Validation RMSE 0.47699364333271416\n"
     ]
    }
   ],
   "source": [
    "# we get a long list of warnings after running this code chunk so i am going to disable them first\n",
    "import warnings\n",
    "warnings.filterwarnings('ignore')\n",
    "\n",
    "# now for hyperparameter tuning\n",
    "from sklearn.model_selection import GridSearchCV\n",
    "\n",
    "param_grid = {'C': np.arange(.1, 1, .1),\n",
    "              'fit_intercept': ['True', 'False'],\n",
    "              'solver': ['liblinear', 'sag', 'saga']\n",
    "             }\n",
    "\n",
    "log_grid_reg = GridSearchCV(log_reg, param_grid, cv=3, iid=False)\n",
    "log_grid_reg.fit(X_train.drop('CountyFIPS', axis=1), y_train)\n",
    "\n",
    "best_index = np.argmax(log_grid_reg.cv_results_[\"mean_test_score\"])\n",
    "best_log_pred = log_grid_reg.best_estimator_.predict(X_validate.drop('CountyFIPS', axis=1))\n",
    "\n",
    "print(log_grid_reg.cv_results_[\"params\"][best_index])\n",
    "print('Best CV R^2:', max(log_grid_reg.cv_results_[\"mean_test_score\"]))\n",
    "print('Validation R^2:', log_grid_reg.score(X_validate.drop('CountyFIPS', axis=1), y_validate))\n",
    "print('Validation RMSE', rmse(best_log_pred, y_validate))"
   ]
  },
  {
   "cell_type": "code",
   "execution_count": 29,
   "metadata": {},
   "outputs": [],
   "source": [
    "#Feature selection\n",
    "best_log_coef = log_grid_reg.best_estimator_.coef_.flatten()\n",
    "best_log_reg_data = pd.DataFrame([best_log_coef, X_train.columns]).T\n",
    "best_log_reg_data.columns = ['Coefficient', 'Feature']\n",
    "best_log_reg_data\n",
    "best_log_reg_data = best_log_reg_data.dropna(axis=0, how='any')\n",
    "best_log_reg_data = best_log_reg_data.dropna()\n",
    "best_log_reg_data = best_log_reg_data.where(abs(best_log_reg_data.Coefficient) > np.quantile(abs(best_log_reg_data['Coefficient']), q=0.2))"
   ]
  },
  {
   "cell_type": "markdown",
   "metadata": {},
   "source": [
    "#### 4.1.2 Ridge Regression"
   ]
  },
  {
   "cell_type": "markdown",
   "metadata": {},
   "source": [
    "Next up will be the ridge regression, which has some advantages over the linear regression. It penalizes the estimates, particularly for features with a very large beta coefficient. This can help us to narrow in on some of the most important features for our model. Importantly, unlike the LASSO, it does not reduce coefficients to zero."
   ]
  },
  {
   "cell_type": "code",
   "execution_count": 30,
   "metadata": {},
   "outputs": [
    {
     "data": {
      "image/png": "[encoded data removed]",
      "text/plain": [
       "<Figure size 432x288 with 1 Axes>"
      ]
     },
     "metadata": {},
     "output_type": "display_data"
    }
   ],
   "source": [
    "# make and fit a Ridge regression model\n",
    "ridge_reg = Ridge() \n",
    "ridge_model = ridge_reg.fit(X_train.drop('CountyFIPS', axis=1), y_train)\n",
    "ridge_reg_data = pd.DataFrame([ridge_model.coef_, X_train.columns]).T\n",
    "ridge_reg_data.columns = ['Coefficient', 'Feature']\n",
    "\n",
    "# use the model to make predictions\n",
    "ridge_pred = ridge_model.predict(X_validate.drop('CountyFIPS', axis=1))\n",
    "\n",
    "# plot the predictions\n",
    "plt.scatter(y_validate, ridge_pred)\n",
    "plt.title('Ridge Model')\n",
    "plt.xlabel('actual values')\n",
    "plt.ylabel('predicted values')\n",
    "plt.show()"
   ]
  },
  {
   "cell_type": "markdown",
   "metadata": {},
   "source": [
    "Hyperparameter tuning the ridge model"
   ]
  },
  {
   "cell_type": "code",
   "execution_count": 31,
   "metadata": {},
   "outputs": [
    {
     "name": "stdout",
     "output_type": "stream",
     "text": [
      "{'alpha': 0.2, 'fit_intercept': 'True', 'normalize': 'True', 'solver': 'auto'}\n",
      "Best CV R^2: 0.28217279400099393\n",
      "Validation R^2: 0.2975591371896992\n",
      "Validation RMSE 0.36179886005711137\n"
     ]
    }
   ],
   "source": [
    "param_grid = {'alpha': np.arange(.1, 1, .1),\n",
    "               'normalize': ['True', 'False'],\n",
    "             'fit_intercept': ['True', 'False'],\n",
    "             'solver': ['auto', 'svd', 'cholesky', 'lsqr']}\n",
    "\n",
    "ridge_grid_reg = GridSearchCV(ridge_reg, param_grid, cv=3, iid=False)\n",
    "ridge_grid_reg.fit(X_train.drop('CountyFIPS', axis=1), y_train)\n",
    "\n",
    "best_index = np.argmax(ridge_grid_reg.cv_results_[\"mean_test_score\"])\n",
    "best_ridge_pred = ridge_grid_reg.best_estimator_.predict(X_validate.drop('CountyFIPS', axis=1))\n",
    "\n",
    "print(ridge_grid_reg.cv_results_[\"params\"][best_index])\n",
    "print('Best CV R^2:', max(ridge_grid_reg.cv_results_[\"mean_test_score\"]))\n",
    "print('Validation R^2:', ridge_grid_reg.score(X_validate.drop('CountyFIPS', axis=1), y_validate))\n",
    "print('Validation RMSE', rmse(best_ridge_pred, y_validate))"
   ]
  },
  {
   "cell_type": "code",
   "execution_count": 32,
   "metadata": {},
   "outputs": [],
   "source": [
    "#Feature selection\n",
    "best_ridge_coef = ridge_grid_reg.best_estimator_.coef_.flatten()\n",
    "best_ridge_reg_data = pd.DataFrame([best_ridge_coef, X_train.columns]).T\n",
    "best_ridge_reg_data.columns = ['Coefficient', 'Feature']\n",
    "best_ridge_reg_data = best_ridge_reg_data.dropna(axis=0, how='any')\n",
    "best_ridge_reg_data = best_ridge_reg_data.where(abs(best_ridge_reg_data.Coefficient) > np.quantile(abs(best_ridge_reg_data['Coefficient']), q=0.2))\n",
    "best_ridge_reg_data = best_ridge_reg_data.dropna()\n",
    "#best_ridge_to_drop = best_ridge_reg_data.where(abs(best_ridge_reg_data.Coefficient) <= np.quantile(abs(best_ridge_reg_data['Coefficient']), q=0.2))\n",
    "#best_ridge_to_drop = best_ridge_to_drop.dropna()"
   ]
  },
  {
   "cell_type": "markdown",
   "metadata": {},
   "source": [
    "#### 4.1.3 LASSO Regression"
   ]
  },
  {
   "cell_type": "markdown",
   "metadata": {},
   "source": [
    "Following the ridge, we run a LASSO regression. Similarly to the ridge, it also penalizes features. But it actually forces some of them to be zero. As mentioned earlier, this can help us to narrow in on some of the most important features for our model."
   ]
  },
  {
   "cell_type": "code",
   "execution_count": 33,
   "metadata": {},
   "outputs": [
    {
     "data": {
      "image/png": "[encoded data removed]",
      "text/plain": [
       "<Figure size 432x288 with 1 Axes>"
      ]
     },
     "metadata": {},
     "output_type": "display_data"
    }
   ],
   "source": [
    "# create and fit the model\n",
    "lasso_reg = Lasso(max_iter=10000, alpha=0.0005)  \n",
    "\n",
    "lasso_model = lasso_reg.fit(X_train.drop('CountyFIPS', axis=1), y_train)\n",
    "lasso_reg_data = pd.DataFrame([lasso_model.coef_, X_train.columns]).T\n",
    "lasso_reg_data.columns = ['Coefficient', 'Feature']\n",
    "\n",
    "# use the model to make predictions\n",
    "lasso_pred = lasso_model.predict(X_validate.drop('CountyFIPS', axis=1))\n",
    "\n",
    "# plot the predictions\n",
    "plt.scatter(y_validate, lasso_pred)\n",
    "plt.title('LASSO Model')\n",
    "plt.xlabel('actual values')\n",
    "plt.ylabel('predicted values')\n",
    "plt.show()"
   ]
  },
  {
   "cell_type": "markdown",
   "metadata": {},
   "source": [
    "Comparing Ridge and LASSO coefficients"
   ]
  },
  {
   "cell_type": "code",
   "execution_count": 34,
   "metadata": {},
   "outputs": [
    {
     "data": {
      "image/png": "[encoded data removed]",
      "text/plain": [
       "<Figure size 432x288 with 2 Axes>"
      ]
     },
     "metadata": {},
     "output_type": "display_data"
    }
   ],
   "source": [
    "figure = plt.figure()\n",
    "figure.subplots_adjust(wspace = .5, hspace=.5)\n",
    "figure.add_subplot(1, 2, 1)\n",
    "sns.barplot(x=\"Coefficient\", y=\"Feature\", data=ridge_reg_data).set_title(\"Ridge Coefficients\")\n",
    "plt.yticks(y, \" \")\n",
    "figure.add_subplot(1, 2, 2)\n",
    "sns.barplot(x=\"Coefficient\", y=\"Feature\", data=lasso_reg_data).set_title(\"LASSO Coefficients\")\n",
    "plt.yticks(y, \" \")\n",
    "plt.show()"
   ]
  },
  {
   "cell_type": "markdown",
   "metadata": {},
   "source": [
    "Hyperparameter tuning the LASSO model"
   ]
  },
  {
   "cell_type": "code",
   "execution_count": 35,
   "metadata": {},
   "outputs": [
    {
     "name": "stdout",
     "output_type": "stream",
     "text": [
      "{'alpha': 0.0002, 'fit_intercept': 'False', 'normalize': 'False', 'selection': 'random'}\n",
      "Best CV R^2: 0.28193026651330216\n",
      "Validation R^2: 0.2965166080373579\n",
      "Validation RMSE 0.36206724280098884\n"
     ]
    }
   ],
   "source": [
    "param_grid = {'alpha': np.arange(0.0001, 0.001, 0.0001),\n",
    "               'normalize': ['True', 'False'],\n",
    "             'fit_intercept': ['True', 'False'],\n",
    "             'selection': ['cyclic', 'random']}\n",
    "\n",
    "lasso_grid_reg = GridSearchCV(lasso_reg, param_grid, cv=3, iid=False)\n",
    "lasso_grid_reg.fit(X_train, y_train)\n",
    "\n",
    "best_index = np.argmax(lasso_grid_reg.cv_results_[\"mean_test_score\"])\n",
    "best_lasso_pred = lasso_grid_reg.best_estimator_.predict(X_validate)\n",
    "\n",
    "print(lasso_grid_reg.cv_results_[\"params\"][best_index])\n",
    "print('Best CV R^2:', max(lasso_grid_reg.cv_results_[\"mean_test_score\"]))\n",
    "print('Validation R^2:', lasso_grid_reg.score(X_validate, y_validate))\n",
    "print('Validation RMSE', rmse(best_lasso_pred, y_validate))"
   ]
  },
  {
   "cell_type": "code",
   "execution_count": 36,
   "metadata": {},
   "outputs": [
    {
     "data": {
      "text/html": [
       "<div>\n",
       "<style scoped>\n",
       "    .dataframe tbody tr th:only-of-type {\n",
       "        vertical-align: middle;\n",
       "    }\n",
       "\n",
       "    .dataframe tbody tr th {\n",
       "        vertical-align: top;\n",
       "    }\n",
       "\n",
       "    .dataframe thead th {\n",
       "        text-align: right;\n",
       "    }\n",
       "</style>\n",
       "<table border=\"1\" class=\"dataframe\">\n",
       "  <thead>\n",
       "    <tr style=\"text-align: right;\">\n",
       "      <th></th>\n",
       "      <th>Coefficient</th>\n",
       "      <th>Feature</th>\n",
       "    </tr>\n",
       "  </thead>\n",
       "  <tbody>\n",
       "    <tr>\n",
       "      <th>0</th>\n",
       "      <td>1.47969</td>\n",
       "      <td>Obesity_Number</td>\n",
       "    </tr>\n",
       "    <tr>\n",
       "      <th>1</th>\n",
       "      <td>2.48483</td>\n",
       "      <td>Physical_Inactivity_Number</td>\n",
       "    </tr>\n",
       "    <tr>\n",
       "      <th>2</th>\n",
       "      <td>0.785186</td>\n",
       "      <td>race_total population_one race</td>\n",
       "    </tr>\n",
       "    <tr>\n",
       "      <th>3</th>\n",
       "      <td>-0.518977</td>\n",
       "      <td>race_total population_one race_white</td>\n",
       "    </tr>\n",
       "    <tr>\n",
       "      <th>6</th>\n",
       "      <td>-0.478185</td>\n",
       "      <td>race_total population_one race_american indian...</td>\n",
       "    </tr>\n",
       "    <tr>\n",
       "      <th>10</th>\n",
       "      <td>-0.441079</td>\n",
       "      <td>race_total population_one race_asian_asian indian</td>\n",
       "    </tr>\n",
       "    <tr>\n",
       "      <th>15</th>\n",
       "      <td>-4.88652</td>\n",
       "      <td>race_total population_one race_asian_vietnamese</td>\n",
       "    </tr>\n",
       "    <tr>\n",
       "      <th>16</th>\n",
       "      <td>-0.236337</td>\n",
       "      <td>race_total population_one race_asian_other asian</td>\n",
       "    </tr>\n",
       "    <tr>\n",
       "      <th>17</th>\n",
       "      <td>-4.53481</td>\n",
       "      <td>race_total population_one race_native hawaiian...</td>\n",
       "    </tr>\n",
       "    <tr>\n",
       "      <th>21</th>\n",
       "      <td>-0.489719</td>\n",
       "      <td>race_total population_two or more races_white ...</td>\n",
       "    </tr>\n",
       "    <tr>\n",
       "      <th>22</th>\n",
       "      <td>-1.63668</td>\n",
       "      <td>race_total population_two or more races_white ...</td>\n",
       "    </tr>\n",
       "    <tr>\n",
       "      <th>27</th>\n",
       "      <td>-1.70899</td>\n",
       "      <td>hispanic or latino and race_total population_h...</td>\n",
       "    </tr>\n",
       "    <tr>\n",
       "      <th>28</th>\n",
       "      <td>-1.92359</td>\n",
       "      <td>hispanic or latino and race_total population_h...</td>\n",
       "    </tr>\n",
       "    <tr>\n",
       "      <th>35</th>\n",
       "      <td>-0.399185</td>\n",
       "      <td>sex and age_total population_male</td>\n",
       "    </tr>\n",
       "    <tr>\n",
       "      <th>37</th>\n",
       "      <td>-1.07684</td>\n",
       "      <td>sex and age_total population_5 to 9 years</td>\n",
       "    </tr>\n",
       "    <tr>\n",
       "      <th>41</th>\n",
       "      <td>-0.314572</td>\n",
       "      <td>sex and age_total population_25 to 34 years</td>\n",
       "    </tr>\n",
       "    <tr>\n",
       "      <th>42</th>\n",
       "      <td>1.20876</td>\n",
       "      <td>sex and age_total population_35 to 44 years</td>\n",
       "    </tr>\n",
       "    <tr>\n",
       "      <th>43</th>\n",
       "      <td>0.58117</td>\n",
       "      <td>sex and age_total population_45 to 54 years</td>\n",
       "    </tr>\n",
       "    <tr>\n",
       "      <th>46</th>\n",
       "      <td>1.74075</td>\n",
       "      <td>sex and age_total population_65 to 74 years</td>\n",
       "    </tr>\n",
       "    <tr>\n",
       "      <th>48</th>\n",
       "      <td>-2.1463</td>\n",
       "      <td>sex and age_total population_85 years and over</td>\n",
       "    </tr>\n",
       "    <tr>\n",
       "      <th>49</th>\n",
       "      <td>-1.44267</td>\n",
       "      <td>sex and age_total population_median age (years)</td>\n",
       "    </tr>\n",
       "  </tbody>\n",
       "</table>\n",
       "</div>"
      ],
      "text/plain": [
       "   Coefficient                                            Feature\n",
       "0      1.47969                                     Obesity_Number\n",
       "1      2.48483                         Physical_Inactivity_Number\n",
       "2     0.785186                     race_total population_one race\n",
       "3    -0.518977               race_total population_one race_white\n",
       "6    -0.478185  race_total population_one race_american indian...\n",
       "10   -0.441079  race_total population_one race_asian_asian indian\n",
       "15    -4.88652    race_total population_one race_asian_vietnamese\n",
       "16   -0.236337   race_total population_one race_asian_other asian\n",
       "17    -4.53481  race_total population_one race_native hawaiian...\n",
       "21   -0.489719  race_total population_two or more races_white ...\n",
       "22    -1.63668  race_total population_two or more races_white ...\n",
       "27    -1.70899  hispanic or latino and race_total population_h...\n",
       "28    -1.92359  hispanic or latino and race_total population_h...\n",
       "35   -0.399185                  sex and age_total population_male\n",
       "37    -1.07684          sex and age_total population_5 to 9 years\n",
       "41   -0.314572        sex and age_total population_25 to 34 years\n",
       "42     1.20876        sex and age_total population_35 to 44 years\n",
       "43     0.58117        sex and age_total population_45 to 54 years\n",
       "46     1.74075        sex and age_total population_65 to 74 years\n",
       "48     -2.1463     sex and age_total population_85 years and over\n",
       "49    -1.44267    sex and age_total population_median age (years)"
      ]
     },
     "execution_count": 36,
     "metadata": {},
     "output_type": "execute_result"
    }
   ],
   "source": [
    "#Feature selection\n",
    "best_lasso_coef = lasso_grid_reg.best_estimator_.coef_.flatten()\n",
    "best_lasso_reg_data = pd.DataFrame([best_lasso_coef, X_train.columns]).T\n",
    "best_lasso_reg_data.columns = ['Coefficient', 'Feature']\n",
    "best_lasso_reg_data = best_lasso_reg_data.dropna(axis=0, how='any')\n",
    "best_lasso_reg_data = best_lasso_reg_data.where(abs(best_lasso_reg_data.Coefficient) > np.quantile(abs(best_lasso_reg_data['Coefficient']), q=0.2))\n",
    "best_lasso_reg_data = best_lasso_reg_data.dropna()\n",
    "best_lasso_reg_data"
   ]
  },
  {
   "cell_type": "markdown",
   "metadata": {},
   "source": [
    "#### 4.1.4 SVM"
   ]
  },
  {
   "cell_type": "markdown",
   "metadata": {},
   "source": [
    "Our fourth ML technique is the support vector classifier. One of the benefits of this particular model given our large number of features (including many that are close to 0) is that it is fairly effective in high dimensional spaces that are sparse. One downfall, however, is that it is more a \"black box\" technique. We do not really know much about what is happening \"under the hood\" and there is no probabilistic explanation for the classifying hyperplane."
   ]
  },
  {
   "cell_type": "code",
   "execution_count": 37,
   "metadata": {},
   "outputs": [],
   "source": [
    "from sklearn import svm\n",
    "\n",
    "# make and fit a SVM\n",
    "svm = svm.SVC()\n",
    "svc_model = svm.fit(X_train.drop('CountyFIPS', axis=1), y_train)\n",
    "#svc_data = pd.DataFrame([svc_model.coef_, X_train.columns]).T\n",
    "#svc_data.columns = ['Coefficient', 'Feature']"
   ]
  },
  {
   "cell_type": "code",
   "execution_count": 38,
   "metadata": {},
   "outputs": [
    {
     "data": {
      "image/png": "[encoded data removed]",
      "text/plain": [
       "<Figure size 432x288 with 1 Axes>"
      ]
     },
     "metadata": {},
     "output_type": "display_data"
    }
   ],
   "source": [
    "# use the model to make predictions\n",
    "svc_pred = svc_model.predict(X_validate.drop('CountyFIPS', axis=1))\n",
    "\n",
    "# plot the predictions\n",
    "plt.scatter(y_validate, svc_pred)\n",
    "plt.title('SVC Model')\n",
    "plt.xlabel('actual values')\n",
    "plt.ylabel('predicted values')\n",
    "plt.show()"
   ]
  },
  {
   "cell_type": "markdown",
   "metadata": {},
   "source": [
    "Hypertuning the SVM"
   ]
  },
  {
   "cell_type": "code",
   "execution_count": 39,
   "metadata": {},
   "outputs": [
    {
     "name": "stdout",
     "output_type": "stream",
     "text": [
      "{'C': 0.9, 'decision_function_shape': 'ovo', 'gamma': 'scale', 'kernel': 'linear', 'shrinking': True}\n",
      "Best CV R^2: 0.8009803921568627\n",
      "Validation R^2: 0.7743119266055046\n",
      "Validation RMSE 0.47506638840744714\n"
     ]
    }
   ],
   "source": [
    "param_grid = {'C': np.arange(.1, 1, .1),\n",
    "             'kernel': ['linear', 'poly', 'rbf', 'sigmoid'],\n",
    "             'gamma': ['scale', 'auto'],\n",
    "             'shrinking': [True, False],\n",
    "             #'probability': [True, False],\n",
    "             'decision_function_shape': ['ovo', 'ovr']}\n",
    "\n",
    "svc_grid_reg = GridSearchCV(svc_model, param_grid, cv=3, iid=False)\n",
    "svc_grid_reg.fit(X_train.drop('CountyFIPS', axis=1), y_train)\n",
    "\n",
    "best_index = np.argmax(svc_grid_reg.cv_results_[\"mean_test_score\"])\n",
    "best_svc_pred = svc_grid_reg.best_estimator_.predict(X_validate.drop('CountyFIPS', axis=1))\n",
    "\n",
    "print(svc_grid_reg.cv_results_[\"params\"][best_index])\n",
    "print('Best CV R^2:', max(svc_grid_reg.cv_results_[\"mean_test_score\"]))\n",
    "print('Validation R^2:', svc_grid_reg.score(X_validate.drop('CountyFIPS', axis=1), y_validate))\n",
    "print('Validation RMSE', rmse(best_svc_pred, y_validate))"
   ]
  },
  {
   "cell_type": "markdown",
   "metadata": {},
   "source": [
    "#### 4.1.5 Decision Trees"
   ]
  },
  {
   "cell_type": "markdown",
   "metadata": {},
   "source": [
    "Like many of the previous models, decisions trees are a go-to ML technique for many classification problems. With trees, each node of the tree representation symbolizes an attribute and each leaf denotes a class label. One con associated with this method, however, is that feature values are preferred to be categorical but nearly all of our features are continous."
   ]
  },
  {
   "cell_type": "code",
   "execution_count": 40,
   "metadata": {},
   "outputs": [
    {
     "data": {
      "text/plain": [
       "DecisionTreeClassifier(min_impurity_decrease=1e-07, random_state=10)"
      ]
     },
     "execution_count": 40,
     "metadata": {},
     "output_type": "execute_result"
    }
   ],
   "source": [
    "from sklearn import tree\n",
    "\n",
    "dt_classifier = tree.DecisionTreeClassifier(criterion='gini',  # or 'entropy' for information gain\n",
    "                       splitter='best',  # or 'random' for random best split\n",
    "                       max_depth=None,  # how deep tree nodes can go\n",
    "                       min_samples_split=2,  # samples needed to split node\n",
    "                       min_samples_leaf=1,  # samples needed for a leaf\n",
    "                       min_weight_fraction_leaf=0.0,  # weight of samples needed for a node\n",
    "                       max_features=None,  # number of features to look for when splitting\n",
    "                       max_leaf_nodes=None,  # max nodes\n",
    "                       min_impurity_decrease=1e-07, #early stopping\n",
    "                       random_state = 10) #random seed\n",
    "\n",
    "dt_classifier.fit(X_train, y_train)"
   ]
  },
  {
   "cell_type": "markdown",
   "metadata": {},
   "source": [
    "See how it performs:"
   ]
  },
  {
   "cell_type": "code",
   "execution_count": 41,
   "metadata": {},
   "outputs": [
    {
     "name": "stdout",
     "output_type": "stream",
     "text": [
      "1.0\n",
      "0.7614678899082569\n"
     ]
    }
   ],
   "source": [
    "print(dt_classifier.score(X_train, y_train))\n",
    "print(dt_classifier.score(X_validate, y_validate))"
   ]
  },
  {
   "cell_type": "code",
   "execution_count": 42,
   "metadata": {},
   "outputs": [
    {
     "name": "stdout",
     "output_type": "stream",
     "text": [
      "{'criterion': 'entropy', 'max_depth': 3, 'min_samples_leaf': 2, 'min_samples_split': 2, 'splitter': 'best'}\n",
      "Best CV R^2: 0.8181136445403849\n",
      "Validation R^2: 0.7743119266055046\n",
      "Validation RMSE 0.47506638840744714\n"
     ]
    }
   ],
   "source": [
    "param_grid = {'criterion': ['gini', 'entropy'],\n",
    "             'splitter': ['best', 'random'],\n",
    "             'max_depth': [None, 1, 2, 3],\n",
    "             'min_samples_split': np.arange(2, 5, 1),\n",
    "             'min_samples_leaf': np.arange(2, 5, 1)}\n",
    "\n",
    "dt_grid_reg = GridSearchCV(dt_classifier, param_grid, cv=3, iid=False)\n",
    "dt_grid_reg.fit(X_train.drop('CountyFIPS', axis=1), y_train)\n",
    "\n",
    "best_index = np.argmax(dt_grid_reg.cv_results_[\"mean_test_score\"])\n",
    "best_svc_pred = dt_grid_reg.best_estimator_.predict(X_validate.drop('CountyFIPS', axis=1))\n",
    "\n",
    "print(dt_grid_reg.cv_results_[\"params\"][best_index])\n",
    "print('Best CV R^2:', max(dt_grid_reg.cv_results_[\"mean_test_score\"]))\n",
    "print('Validation R^2:', dt_grid_reg.score(X_validate.drop('CountyFIPS', axis=1), y_validate))\n",
    "print('Validation RMSE', rmse(best_svc_pred, y_validate))"
   ]
  },
  {
   "cell_type": "markdown",
   "metadata": {},
   "source": [
    "## Section 5"
   ]
  },
  {
   "cell_type": "markdown",
   "metadata": {},
   "source": [
    "Because we incorporated Sections 5.1 and 5.2 in the previous section, we now move to predicting our best model on the test set. The ridge and LASSO models performed the best but the ridge regression had a slightly lower validation RMSE so we select this model. Again, the ridge model trades some bias for lower variance by shrinking the magnitude of the coefficients towards zero."
   ]
  },
  {
   "cell_type": "markdown",
   "metadata": {},
   "source": [
    "### 5.3: Test Set"
   ]
  },
  {
   "cell_type": "code",
   "execution_count": 43,
   "metadata": {},
   "outputs": [
    {
     "data": {
      "text/plain": [
       "['Obesity_Number',\n",
       " 'Physical_Inactivity_Number',\n",
       " 'race_total population_one race',\n",
       " 'race_total population_one race_white',\n",
       " 'race_total population_one race_american indian and alaska native_cherokee tribal grouping',\n",
       " 'race_total population_one race_american indian and alaska native_chippewa tribal grouping',\n",
       " 'race_total population_one race_american indian and alaska native_navajo tribal grouping',\n",
       " 'race_total population_one race_american indian and alaska native_sioux tribal grouping',\n",
       " 'race_total population_one race_asian',\n",
       " 'race_total population_one race_asian_asian indian',\n",
       " 'race_total population_one race_asian_chinese',\n",
       " 'race_total population_one race_asian_filipino',\n",
       " 'race_total population_one race_asian_japanese',\n",
       " 'race_total population_one race_asian_korean',\n",
       " 'race_total population_one race_asian_vietnamese',\n",
       " 'race_total population_one race_asian_other asian',\n",
       " 'race_total population_one race_native hawaiian and other pacific islander_guamanian or chamorro',\n",
       " 'race_total population_one race_native hawaiian and other pacific islander_samoan',\n",
       " 'race_total population_two or more races_white and american indian and alaska native',\n",
       " 'race_total population_two or more races_white and asian',\n",
       " 'race_total population_two or more races_black or african american and american indian and alaska native',\n",
       " 'hispanic or latino and race_total population_hispanic or latino (of any race)_puerto rican',\n",
       " 'hispanic or latino and race_total population_hispanic or latino (of any race)_cuban',\n",
       " 'hispanic or latino and race_total population_hispanic or latino (of any race)_other hispanic or latino',\n",
       " 'hispanic or latino and race_total population_not hispanic or latino_some other race alone',\n",
       " 'hispanic or latino and race_total population_not hispanic or latino_two or more races_two races including some other race',\n",
       " 'citizen -  voting age population_citizen -  18 and over population',\n",
       " 'sex and age_total population_male',\n",
       " 'sex and age_total population_under 5 years',\n",
       " 'sex and age_total population_5 to 9 years',\n",
       " 'sex and age_total population_10 to 14 years',\n",
       " 'sex and age_total population_15 to 19 years',\n",
       " 'sex and age_total population_20 to 24 years',\n",
       " 'sex and age_total population_25 to 34 years',\n",
       " 'sex and age_total population_35 to 44 years',\n",
       " 'sex and age_total population_45 to 54 years',\n",
       " 'sex and age_total population_55 to 59 years',\n",
       " 'sex and age_total population_65 to 74 years',\n",
       " 'sex and age_total population_85 years and over',\n",
       " 'sex and age_total population_median age (years)']"
      ]
     },
     "execution_count": 43,
     "metadata": {},
     "output_type": "execute_result"
    }
   ],
   "source": [
    "best_vars = best_ridge_reg_data[\"Feature\"].tolist()\n",
    "best_vars"
   ]
  },
  {
   "cell_type": "code",
   "execution_count": 49,
   "metadata": {},
   "outputs": [
    {
     "name": "stdout",
     "output_type": "stream",
     "text": [
      "Best CV R^2: 0.28217279400099393\n",
      "Test R^2: 0.21347145926175015\n",
      "Test RMSE 0.3763317095301738\n"
     ]
    }
   ],
   "source": [
    "X_test = X_test[X_train.columns.values.tolist()]\n",
    "best_vars = best_ridge_reg_data[\"Feature\"].tolist()\n",
    "X_test_filter = X_test[best_vars]\n",
    "best_pred = ridge_grid_reg.best_estimator_.predict(X_test.drop(\"CountyFIPS\", axis=1))\n",
    "print('Best CV R^2:', max(ridge_grid_reg.cv_results_[\"mean_test_score\"]))\n",
    "print('Test R^2:', ridge_grid_reg.score(X_test.drop(\"CountyFIPS\", axis=1), y_test))\n",
    "print('Test RMSE', rmse(best_pred, y_test))"
   ]
  },
  {
   "cell_type": "code",
   "execution_count": 45,
   "metadata": {},
   "outputs": [
    {
     "data": {
      "text/plain": [
       "(1633, 50)"
      ]
     },
     "execution_count": 45,
     "metadata": {},
     "output_type": "execute_result"
    }
   ],
   "source": [
    "X_train.drop(\"CountyFIPS\", axis=1).shape"
   ]
  },
  {
   "cell_type": "markdown",
   "metadata": {},
   "source": [
    "_Evaluate your performance on this test set. What is the advantage of using both validation and test sets in the social sciences and public policy?_\n",
    "\n",
    "The model actually performed surprisingly well. The validation RMSE for our ridge regression was 0.362. And running our best ridge model on the test data gives us just a slightly higher RMSE (which we expect) of 0.376.\n",
    "\n",
    "The advantage of using both validation and test sets is that we have the opportunity to better tune the models and select one that would perform well out of sample. Model selection is informed by the validation set because it allows us to test the model we built with our training data on a new set of data. The final test set, which we use only once with our best model, is the one we would share with the policymaker who tasked us with this question.\n",
    "\n",
    "Finally, the benefit of data splitting for the social sciences and public policy is that it generates more consistent and effective predictions. If we were to just run each of these regressions on the full sample, it would be much more difficult to compare and contrast how well the models perform because we have already used up all of our data."
   ]
  },
  {
   "cell_type": "markdown",
   "metadata": {},
   "source": [
    "### 5.4 Cross-Validation"
   ]
  },
  {
   "cell_type": "markdown",
   "metadata": {},
   "source": [
    "Cross-validation involves dividing the sample into k number of folds (e.g., subsamples) and testing which model best predicts the final fold. The more folds, the more samples we have to average the errors and find the best model. But the tradeoff is that every additional number of folds reduces the sample size of each fold significantly--sacrificing bias. James et al. (2013:184) recommends performing k-fold cross-validation using k = 5 or k = 10, \"as these values have been shown empirically to yield test error rate estimates that suffer neither from excessively high bias nor from very high variance.”\n",
    "\n",
    "Cross-validation, unlike splitting, has the advantage of allowing every data point to be in the test set once. Splitting the dataset, on the other hand, means a random subset of the sample will be in train, another subset in validation, and yet a third in test. By averaging the errors in cross-validation, the model is less sensitive to variation in the random samples, and is also less prone to overfitting. "
   ]
  },
  {
   "cell_type": "code",
   "execution_count": 46,
   "metadata": {},
   "outputs": [
    {
     "data": {
      "text/plain": [
       "array([ 9.01510517e-02,  2.22143968e-01,  2.29517687e-01, -8.96289288e-02,\n",
       "        3.47659741e-01,  4.93900341e-01,  3.15659681e-01,  1.57097284e-02,\n",
       "        2.73099029e-01,  7.85223067e-02,  1.51659298e-01,  1.03799230e-01,\n",
       "        3.34599055e-01,  2.25737250e-01,  1.98088438e-01,  6.95175978e-01,\n",
       "        2.52209834e-01, -2.16799317e-01,  2.11932517e-01,  1.71615891e-01,\n",
       "        2.42074341e-01, -1.57670652e-01,  8.30478023e-03,  4.09832480e-01,\n",
       "        2.36071003e-01,  1.80497178e-01,  1.51041566e-01,  3.47130071e-01,\n",
       "        2.07394433e-01,  3.79393742e-01,  2.57399106e-01,  1.72033371e-01,\n",
       "        3.81768774e-01,  3.84947213e-01,  1.25788613e-01,  3.24310699e-02,\n",
       "       -1.64816345e-01, -2.27897659e-02,  3.19662912e-01,  1.82429537e-01,\n",
       "        3.95397676e-01, -1.21438838e-01,  2.31958561e-01,  1.18326059e-01,\n",
       "        4.05481552e-01,  5.12867146e-01,  2.52384719e-01,  1.65142442e-03,\n",
       "        2.26081875e-01,  2.51308889e-01,  1.95461036e-01,  2.39359622e-01,\n",
       "        2.69693734e-01, -1.13315400e-01,  1.00903927e-01,  3.34917042e-02,\n",
       "        5.61565831e-01,  2.05126405e-01,  1.82169906e-01,  2.51122178e-01,\n",
       "        4.11585970e-01,  9.73253947e-02,  1.01118551e-01,  6.38718845e-01,\n",
       "        6.09901471e-01,  2.24182002e-01,  8.17127501e-03,  4.68920541e-01,\n",
       "        4.87353819e-01,  4.22583074e-01,  2.47684421e-01,  4.05131651e-01,\n",
       "        4.72100361e-01,  2.09258060e-01,  2.48402539e-01, -1.65616565e-02,\n",
       "        1.79228478e-01,  2.86028044e-01,  8.11598815e-02,  2.71912998e-01,\n",
       "        1.29916501e-01,  5.71799308e-01,  3.34997732e-01,  1.22743443e-01,\n",
       "        1.06887212e-01,  1.21990948e-01,  5.55792937e-02,  3.51926843e-01,\n",
       "        2.35560036e-01,  7.97882642e-01,  6.77392288e-01,  6.81122287e-01,\n",
       "        5.21828854e-01, -1.54930529e-02,  3.30816383e-01,  4.39578812e-01,\n",
       "        2.90229308e-01,  5.00306176e-01,  3.40557034e-01,  3.63576863e-01,\n",
       "        4.66986730e-01,  2.41032014e-01,  4.06291865e-02,  1.04460378e-01,\n",
       "        1.86591679e-01,  1.47607911e-01,  2.59895923e-01,  3.78648729e-01,\n",
       "        2.38814553e-02,  6.26164448e-01,  1.46834718e-01,  5.48098177e-02,\n",
       "        4.88521102e-01,  1.99487937e-01,  1.39371136e-01,  1.34446440e-01,\n",
       "        2.79673794e-01,  2.49104697e-01,  2.54200377e-01,  3.44632382e-01,\n",
       "        8.70934198e-02,  3.74624100e-01,  1.20764144e-01,  2.15029414e-01,\n",
       "        3.38723804e-01,  1.58946827e-02,  2.40603377e-01,  9.34630900e-03,\n",
       "        2.57950320e-01,  7.64299124e-02,  3.01895051e-01,  2.66048442e-01,\n",
       "        4.03847295e-01,  2.93234755e-01,  1.00425029e-01, -6.04924921e-02,\n",
       "        3.93546560e-01,  2.54001081e-01,  2.60553604e-01,  1.23411484e-01,\n",
       "        9.47755791e-02,  2.35825699e-01,  6.62305186e-01,  3.90485737e-01,\n",
       "       -1.99114618e-01,  6.63159356e-01,  1.03216678e-01,  2.37851842e-01,\n",
       "        3.04997162e-01,  2.44934185e-01,  1.93419034e-01,  2.96314203e-01,\n",
       "        2.85500396e-01,  2.76289267e-01,  1.97323042e-02,  1.61740154e-01,\n",
       "        1.96920075e-01,  2.63096928e-01,  1.59741219e-01,  2.52176652e-01,\n",
       "        1.94584353e-01,  2.67116364e-01,  2.29366745e-01,  2.62663579e-01,\n",
       "        8.40361289e-02,  1.00216757e-01,  1.05452682e-01,  5.06077645e-01,\n",
       "        1.37584965e-01,  5.09440233e-01,  3.60742912e-01,  3.39285670e-02,\n",
       "        2.10976142e-01,  3.94326220e-01,  2.65647674e-02,  2.49500944e-01,\n",
       "        6.80179378e-01,  5.50991310e-01,  3.22108489e-01, -1.20945034e-01,\n",
       "        1.89825904e-01,  4.32044168e-01,  8.47178402e-01,  2.46734671e-01,\n",
       "        1.28878940e-01,  3.28086924e-01,  1.93338324e-01,  1.56499730e-01,\n",
       "        5.81800225e-01,  4.73801310e-01,  5.14787996e-01,  1.89620116e-01,\n",
       "        6.04176497e-01,  1.23027868e-01,  2.21682116e-01,  1.54909560e-02,\n",
       "        2.25486545e-01, -1.65056899e-02,  4.53985060e-01, -7.55072773e-02,\n",
       "        2.07630690e-01,  3.08687537e-01,  2.45511816e-01,  2.06442647e-01,\n",
       "        1.64738265e-01,  2.24942948e-01, -3.53072949e-02,  2.87404646e-02,\n",
       "        2.03382586e-01,  8.50314237e-02,  6.67419216e-01,  1.73740420e-01,\n",
       "        1.21813516e-01,  7.26424473e-01,  1.61167403e-01,  3.00596422e-01,\n",
       "        1.50838379e-01,  4.10766891e-02,  3.35564840e-01,  2.84174409e-01,\n",
       "        3.26302112e-01,  7.20187638e-01, -4.31353429e-02,  2.28245885e-01,\n",
       "        4.63683179e-01,  3.32335304e-01,  3.69564195e-01,  9.14045372e-02,\n",
       "        3.55876666e-01,  3.75605101e-01,  1.87611825e-01,  2.54222354e-01,\n",
       "       -6.06615149e-02, -8.18880352e-03,  8.31196550e-02,  7.80930581e-02,\n",
       "        1.90052091e-01,  2.96449910e-01,  2.41174361e-01,  9.24580837e-02,\n",
       "        2.06594731e-01,  2.81677135e-01,  3.56088200e-01,  7.92781005e-01,\n",
       "        2.45392618e-01,  1.70399431e-01,  4.04210824e-01,  1.66818458e-02,\n",
       "        2.07089204e-01,  9.82201165e-02,  9.82088619e-02,  2.24530541e-01,\n",
       "        1.38377741e-01,  4.07316446e-01, -7.12151610e-02,  8.18204382e-02,\n",
       "        1.78318401e-01,  1.13172087e-01,  2.45722076e-01, -2.98941011e-02,\n",
       "        2.27443323e-01,  1.25392186e-01,  3.53404081e-01,  6.69035773e-01,\n",
       "        1.66619870e-01,  2.97415888e-01,  4.88470325e-01,  2.92185965e-01,\n",
       "        2.63886186e-01,  1.74534806e-01,  3.75386453e-01,  5.80069821e-01,\n",
       "        2.62277014e-01, -4.48283025e-02,  5.36759921e-01,  1.09260435e-01,\n",
       "        3.10068196e-01,  1.03197652e-01,  2.62376661e-01, -1.33191717e-01,\n",
       "       -1.11683965e-01,  1.39052335e-01,  4.27358121e-01,  3.07335535e-01,\n",
       "        1.53998549e-01,  1.81275138e-01,  3.37037479e-01,  2.46580379e-01,\n",
       "        2.12066754e-01,  2.86458420e-01,  2.50476374e-02, -3.65111264e-02,\n",
       "        3.20277673e-01,  2.47773735e-01,  4.28999530e-01,  4.72887825e-02,\n",
       "        4.23793646e-02,  8.24330891e-02,  1.67774441e-01,  1.05810548e-01,\n",
       "        1.46012680e-01,  1.46279144e-01,  7.05431614e-02,  6.52134505e-02,\n",
       "        2.79976715e-01,  3.58003630e-01,  4.43203999e-01,  1.78495922e-01,\n",
       "        5.44465733e-01,  9.62689136e-02,  1.00271281e-01,  3.39608500e-02,\n",
       "        1.03937116e-01,  3.95021363e-01,  3.46813919e-01,  3.86454828e-01,\n",
       "        9.23720432e-02,  1.82188192e-01,  3.05434010e-01,  3.42251472e-01,\n",
       "        1.32635183e-01,  1.63447588e-01,  5.36848211e-01, -4.53871071e-02,\n",
       "        4.71015085e-03,  1.58561366e-01,  1.54359335e-02,  2.42779596e-01,\n",
       "        1.76055849e-01,  3.38579603e-01,  4.15971615e-01,  4.20247606e-01,\n",
       "        4.28779608e-02,  1.20484847e-01,  4.71086606e-01,  2.63883018e-01,\n",
       "        2.94228865e-01,  2.37913400e-01,  4.15394472e-01,  6.98952649e-02,\n",
       "        3.39202460e-01,  2.38599815e-01,  9.90604055e-02,  2.02621319e-01,\n",
       "        2.48521842e-01,  6.79440535e-01,  1.77663578e-01,  3.62197554e-03,\n",
       "        3.79726563e-01, -1.68717130e-01,  9.04467625e-02,  2.90073040e-01,\n",
       "        1.05787128e-01,  2.70959388e-01,  2.26667516e-01,  6.12734264e-01,\n",
       "        4.21803660e-01,  4.09461719e-02,  1.12198695e-01,  2.23163488e-01,\n",
       "       -2.57376368e-01,  3.76858537e-01,  4.21509551e-02,  5.95883702e-01,\n",
       "        2.80019778e-01,  2.68278655e-01,  3.43212216e-01,  3.59686645e-01,\n",
       "        1.95907124e-01,  5.42244566e-02,  2.04725352e-01,  1.72620600e-01,\n",
       "        1.24439538e-02,  4.28220290e-01,  7.04880445e-02,  4.45640748e-01,\n",
       "       -1.37876773e-01,  2.23274450e-01,  5.46948910e-01,  1.98936419e-01,\n",
       "        3.38337966e-01,  2.77768481e-01,  7.68271769e-01,  1.23469150e-01,\n",
       "        4.70423127e-01,  1.00718345e-01,  1.28548076e-01,  1.17799588e-01,\n",
       "        4.11331357e-01, -2.05445498e-01,  4.03720766e-01,  3.48770127e-02,\n",
       "        3.17155750e-01,  9.35523156e-01,  9.86502717e-02,  3.90059179e-01,\n",
       "        8.43952873e-03,  3.62204099e-01,  3.01284199e-01,  4.88671761e-01,\n",
       "        5.68525333e-01,  1.23938935e-01,  5.38839182e-01,  2.79779152e-02,\n",
       "        2.49835579e-01,  3.12182747e-01,  1.09596441e-01,  1.40091371e-01,\n",
       "        3.21056636e-01,  4.74887273e-01,  3.32620153e-01,  3.18917564e-01,\n",
       "        6.14617851e-02,  3.13267675e-01,  2.13798019e-01,  1.39108178e-01,\n",
       "        5.35290799e-03,  2.00713420e-01,  4.43093071e-01,  2.88967966e-01,\n",
       "        3.99649725e-01,  5.14803744e-02,  3.74553405e-01,  9.96997585e-02,\n",
       "        1.00202473e-01,  6.84529527e-01, -9.08773733e-02,  9.28129806e-02,\n",
       "       -8.10077160e-02,  3.23942814e-01,  3.57827961e-01,  4.61495726e-01,\n",
       "       -4.50509434e-02,  6.82276379e-01,  3.44736453e-01,  4.88280442e-01,\n",
       "        2.47291844e-01,  3.81037396e-02,  7.37729760e-03,  4.27707729e-01,\n",
       "        4.43293856e-01,  2.00093742e-01,  3.13965932e-01,  2.48172721e-01,\n",
       "        2.04092987e-01,  7.78071385e-01,  3.13058872e-01,  4.61135970e-01,\n",
       "        1.26774119e-01, -7.78289687e-02,  1.75305938e-01,  7.18919972e-01,\n",
       "        6.38927978e-01,  2.28841530e-01,  2.07565564e-02,  2.74681255e-01,\n",
       "        9.91592107e-02,  9.17589322e-02,  1.49744631e-01,  9.77009156e-02,\n",
       "        3.94310654e-01,  2.19798429e-01,  1.93888518e-01,  3.35547361e-01,\n",
       "        2.81698395e-01,  9.95699173e-02,  7.30940617e-01,  3.19130520e-01,\n",
       "        2.50071133e-01,  5.19796902e-05,  2.49972419e-02,  2.35573443e-01,\n",
       "        5.56159154e-01,  1.57582996e-01,  6.02135314e-01,  3.19910377e-02,\n",
       "        1.32105730e-01,  4.02043445e-01, -5.40389987e-02,  2.73482960e-01,\n",
       "        4.39368091e-01,  4.12158935e-01,  3.43367068e-01,  2.72103589e-01,\n",
       "        1.31316539e-01,  3.90815846e-01, -7.32602838e-02,  3.99650745e-01,\n",
       "        1.77051280e-01, -1.35995514e-01,  3.61790224e-01,  1.70243107e-01,\n",
       "        1.12922031e-01,  1.27279134e-01,  5.11584161e-01,  1.50926611e-01,\n",
       "        1.40147278e-01,  1.56963491e-01,  1.32449031e-01,  4.19690334e-01,\n",
       "        3.65793356e-01,  2.37680837e-02,  1.03015104e-01,  2.55116506e-01,\n",
       "        3.52177664e-01,  2.87368280e-02,  1.34355480e-01,  1.38460700e-01,\n",
       "        1.86463665e-01,  8.04036410e-01,  2.33833386e-01,  3.58734017e-01,\n",
       "        3.22716700e-01,  1.20664108e-01, -1.33935889e-01,  1.43920820e-01,\n",
       "        7.90153385e-01,  6.07263960e-02, -6.07638525e-02,  1.62880195e-01,\n",
       "        1.18456946e-01,  1.34585861e-01,  2.85275811e-01,  3.65707699e-01,\n",
       "        2.40464199e-01,  6.45962254e-02,  3.24039980e-01,  2.21121492e-01,\n",
       "        2.86935661e-01,  2.41325777e-01, -5.16739751e-02,  1.88236448e-01,\n",
       "        2.66618144e-01,  7.78527957e-03,  3.35370125e-01,  2.42054688e-01,\n",
       "        2.11874375e-01,  1.02498494e-01,  3.67224113e-02, -4.16875023e-02,\n",
       "        8.01820106e-02, -2.23648772e-01,  2.55212689e-01,  7.80152320e-01,\n",
       "        2.64847535e-01])"
      ]
     },
     "execution_count": 46,
     "metadata": {},
     "output_type": "execute_result"
    }
   ],
   "source": [
    "ridge_pred"
   ]
  },
  {
   "cell_type": "code",
   "execution_count": 47,
   "metadata": {},
   "outputs": [
    {
     "ename": "ValueError",
     "evalue": "Classification metrics can't handle a mix of binary and continuous targets",
     "output_type": "error",
     "traceback": [
      "\u001b[0;31m---------------------------------------------------------------------------\u001b[0m",
      "\u001b[0;31mValueError\u001b[0m                                Traceback (most recent call last)",
      "\u001b[0;32m<ipython-input-47-3a2c5cb7c431>\u001b[0m in \u001b[0;36m<module>\u001b[0;34m\u001b[0m\n\u001b[1;32m     13\u001b[0m \u001b[0mridge_pred\u001b[0m \u001b[0;34m=\u001b[0m \u001b[0mcross_val_predict\u001b[0m\u001b[0;34m(\u001b[0m\u001b[0mbest_model\u001b[0m\u001b[0;34m,\u001b[0m \u001b[0mX\u001b[0m\u001b[0;34m,\u001b[0m \u001b[0my\u001b[0m\u001b[0;34m,\u001b[0m \u001b[0mcv\u001b[0m \u001b[0;34m=\u001b[0m \u001b[0;36m5\u001b[0m\u001b[0;34m)\u001b[0m\u001b[0;34m\u001b[0m\u001b[0;34m\u001b[0m\u001b[0m\n\u001b[1;32m     14\u001b[0m \u001b[0;34m\u001b[0m\u001b[0m\n\u001b[0;32m---> 15\u001b[0;31m \u001b[0mcf_matrix\u001b[0m \u001b[0;34m=\u001b[0m \u001b[0mconfusion_matrix\u001b[0m\u001b[0;34m(\u001b[0m\u001b[0my\u001b[0m\u001b[0;34m,\u001b[0m \u001b[0mridge_pred\u001b[0m\u001b[0;34m,\u001b[0m \u001b[0mnormalize\u001b[0m \u001b[0;34m=\u001b[0m \u001b[0;34m\"true\"\u001b[0m\u001b[0;34m)\u001b[0m\u001b[0;34m\u001b[0m\u001b[0;34m\u001b[0m\u001b[0m\n\u001b[0m\u001b[1;32m     16\u001b[0m \u001b[0;31m# the error happens here ^ as both ridge_pred and best_pred are arrays of probabilities but we need an\u001b[0m\u001b[0;34m\u001b[0m\u001b[0;34m\u001b[0m\u001b[0;34m\u001b[0m\u001b[0m\n\u001b[1;32m     17\u001b[0m \u001b[0;31m# array of 0s and 1s (I think). That's what I could find online and that's what the confusion matrices\u001b[0m\u001b[0;34m\u001b[0m\u001b[0;34m\u001b[0m\u001b[0;34m\u001b[0m\u001b[0m\n",
      "\u001b[0;32m~/anaconda3/lib/python3.8/site-packages/sklearn/utils/validation.py\u001b[0m in \u001b[0;36minner_f\u001b[0;34m(*args, **kwargs)\u001b[0m\n\u001b[1;32m     71\u001b[0m                           FutureWarning)\n\u001b[1;32m     72\u001b[0m         \u001b[0mkwargs\u001b[0m\u001b[0;34m.\u001b[0m\u001b[0mupdate\u001b[0m\u001b[0;34m(\u001b[0m\u001b[0;34m{\u001b[0m\u001b[0mk\u001b[0m\u001b[0;34m:\u001b[0m \u001b[0marg\u001b[0m \u001b[0;32mfor\u001b[0m \u001b[0mk\u001b[0m\u001b[0;34m,\u001b[0m \u001b[0marg\u001b[0m \u001b[0;32min\u001b[0m \u001b[0mzip\u001b[0m\u001b[0;34m(\u001b[0m\u001b[0msig\u001b[0m\u001b[0;34m.\u001b[0m\u001b[0mparameters\u001b[0m\u001b[0;34m,\u001b[0m \u001b[0margs\u001b[0m\u001b[0;34m)\u001b[0m\u001b[0;34m}\u001b[0m\u001b[0;34m)\u001b[0m\u001b[0;34m\u001b[0m\u001b[0;34m\u001b[0m\u001b[0m\n\u001b[0;32m---> 73\u001b[0;31m         \u001b[0;32mreturn\u001b[0m \u001b[0mf\u001b[0m\u001b[0;34m(\u001b[0m\u001b[0;34m**\u001b[0m\u001b[0mkwargs\u001b[0m\u001b[0;34m)\u001b[0m\u001b[0;34m\u001b[0m\u001b[0;34m\u001b[0m\u001b[0m\n\u001b[0m\u001b[1;32m     74\u001b[0m     \u001b[0;32mreturn\u001b[0m \u001b[0minner_f\u001b[0m\u001b[0;34m\u001b[0m\u001b[0;34m\u001b[0m\u001b[0m\n\u001b[1;32m     75\u001b[0m \u001b[0;34m\u001b[0m\u001b[0m\n",
      "\u001b[0;32m~/anaconda3/lib/python3.8/site-packages/sklearn/metrics/_classification.py\u001b[0m in \u001b[0;36mconfusion_matrix\u001b[0;34m(y_true, y_pred, labels, sample_weight, normalize)\u001b[0m\n\u001b[1;32m    274\u001b[0m \u001b[0;34m\u001b[0m\u001b[0m\n\u001b[1;32m    275\u001b[0m     \"\"\"\n\u001b[0;32m--> 276\u001b[0;31m     \u001b[0my_type\u001b[0m\u001b[0;34m,\u001b[0m \u001b[0my_true\u001b[0m\u001b[0;34m,\u001b[0m \u001b[0my_pred\u001b[0m \u001b[0;34m=\u001b[0m \u001b[0m_check_targets\u001b[0m\u001b[0;34m(\u001b[0m\u001b[0my_true\u001b[0m\u001b[0;34m,\u001b[0m \u001b[0my_pred\u001b[0m\u001b[0;34m)\u001b[0m\u001b[0;34m\u001b[0m\u001b[0;34m\u001b[0m\u001b[0m\n\u001b[0m\u001b[1;32m    277\u001b[0m     \u001b[0;32mif\u001b[0m \u001b[0my_type\u001b[0m \u001b[0;32mnot\u001b[0m \u001b[0;32min\u001b[0m \u001b[0;34m(\u001b[0m\u001b[0;34m\"binary\"\u001b[0m\u001b[0;34m,\u001b[0m \u001b[0;34m\"multiclass\"\u001b[0m\u001b[0;34m)\u001b[0m\u001b[0;34m:\u001b[0m\u001b[0;34m\u001b[0m\u001b[0;34m\u001b[0m\u001b[0m\n\u001b[1;32m    278\u001b[0m         \u001b[0;32mraise\u001b[0m \u001b[0mValueError\u001b[0m\u001b[0;34m(\u001b[0m\u001b[0;34m\"%s is not supported\"\u001b[0m \u001b[0;34m%\u001b[0m \u001b[0my_type\u001b[0m\u001b[0;34m)\u001b[0m\u001b[0;34m\u001b[0m\u001b[0;34m\u001b[0m\u001b[0m\n",
      "\u001b[0;32m~/anaconda3/lib/python3.8/site-packages/sklearn/metrics/_classification.py\u001b[0m in \u001b[0;36m_check_targets\u001b[0;34m(y_true, y_pred)\u001b[0m\n\u001b[1;32m     88\u001b[0m \u001b[0;34m\u001b[0m\u001b[0m\n\u001b[1;32m     89\u001b[0m     \u001b[0;32mif\u001b[0m \u001b[0mlen\u001b[0m\u001b[0;34m(\u001b[0m\u001b[0my_type\u001b[0m\u001b[0;34m)\u001b[0m \u001b[0;34m>\u001b[0m \u001b[0;36m1\u001b[0m\u001b[0;34m:\u001b[0m\u001b[0;34m\u001b[0m\u001b[0;34m\u001b[0m\u001b[0m\n\u001b[0;32m---> 90\u001b[0;31m         raise ValueError(\"Classification metrics can't handle a mix of {0} \"\n\u001b[0m\u001b[1;32m     91\u001b[0m                          \"and {1} targets\".format(type_true, type_pred))\n\u001b[1;32m     92\u001b[0m \u001b[0;34m\u001b[0m\u001b[0m\n",
      "\u001b[0;31mValueError\u001b[0m: Classification metrics can't handle a mix of binary and continuous targets"
     ]
    }
   ],
   "source": [
    "from sklearn.model_selection import cross_val_score\n",
    "from sklearn.model_selection import cross_val_predict\n",
    "\n",
    "# I think we actually need to use the full sample of X and y here because cross-validation does not\n",
    "# split the data (if I understand correctly).\n",
    "y = mydata_norm['diabetes_top_quartile'] \n",
    "X = mydata_norm.drop(['Diabetes_Number','diabetes_top_quartile'], axis = 1)\n",
    "# do we want to reduce X to the features we identified in our previous analysis? \n",
    "# X = X[X_train.columns.values.tolist()]\n",
    "\n",
    "best_model = ridge_grid_reg.best_estimator_\n",
    "\n",
    "ridge_pred = cross_val_predict(best_model, X, y, cv = 5)\n",
    "\n",
    "cf_matrix = confusion_matrix(y, ridge_pred, normalize = \"true\")\n",
    "# the error happens here ^ as both ridge_pred and best_pred are arrays of probabilities but we need an\n",
    "# array of 0s and 1s (I think). That's what I could find online and that's what the confusion matrices\n",
    "# that work earlier in the notebook and in the intro to machine learning notebook\n",
    "\n",
    "df_cm = pd.DataFrame(cf_matrix, range(2),\n",
    "              range(2))\n",
    "\n",
    "df_cm = df_cm.rename(index=str, columns={0: \"Below\", 1: \"Above\"})\n",
    "df_cm.index = [\"Below\", \"Above\"]\n",
    "plt.figure(figsize = (10,7))\n",
    "sns.set(font_scale=1.4)#for label size\n",
    "sns.heatmap(df_cm, \n",
    "           annot=True,\n",
    "           annot_kws={\"size\": 16},\n",
    "           fmt='g')\n",
    "\n",
    "plt.title(\"Confusion Matrix\")\n",
    "plt.xlabel(\"Predicted Label\")\n",
    "plt.ylabel(\"True Label\")\n",
    "plt.show()"
   ]
  },
  {
   "cell_type": "markdown",
   "metadata": {},
   "source": [
    "_Evaluate the results. How did cross-validation do compared to the train/validation/test\n",
    "split?_\n",
    "\n"
   ]
  },
  {
   "cell_type": "code",
   "execution_count": null,
   "metadata": {},
   "outputs": [],
   "source": []
  }
 ],
 "metadata": {
  "kernelspec": {
   "display_name": "Python 3",
   "language": "python",
   "name": "python3"
  },
  "language_info": {
   "codemirror_mode": {
    "name": "ipython",
    "version": 3
   },
   "file_extension": ".py",
   "mimetype": "text/x-python",
   "name": "python",
   "nbconvert_exporter": "python",
   "pygments_lexer": "ipython3",
   "version": "3.8.3"
  }
 },
 "nbformat": 4,
 "nbformat_minor": 4
}
